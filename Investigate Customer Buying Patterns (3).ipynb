{
 "cells": [
  {
   "cell_type": "code",
   "execution_count": 1,
   "id": "090acf5b",
   "metadata": {},
   "outputs": [],
   "source": [
    "import pandas as pd\n",
    "import numpy as np\n",
    "import matplotlib as mpl\n",
    "import matplotlib.pyplot as plt\n",
    "import seaborn as sns"
   ]
  },
  {
   "cell_type": "code",
   "execution_count": 2,
   "id": "fd13f6c1",
   "metadata": {},
   "outputs": [],
   "source": [
    "data = pd.read_csv('Demographic_Data.csv')"
   ]
  },
  {
   "cell_type": "code",
   "execution_count": 3,
   "id": "f39e0ae3",
   "metadata": {},
   "outputs": [
    {
     "data": {
      "text/html": [
       "<div>\n",
       "<style scoped>\n",
       "    .dataframe tbody tr th:only-of-type {\n",
       "        vertical-align: middle;\n",
       "    }\n",
       "\n",
       "    .dataframe tbody tr th {\n",
       "        vertical-align: top;\n",
       "    }\n",
       "\n",
       "    .dataframe thead th {\n",
       "        text-align: right;\n",
       "    }\n",
       "</style>\n",
       "<table border=\"1\" class=\"dataframe\">\n",
       "  <thead>\n",
       "    <tr style=\"text-align: right;\">\n",
       "      <th></th>\n",
       "      <th>in-store</th>\n",
       "      <th>age</th>\n",
       "      <th>items</th>\n",
       "      <th>amount</th>\n",
       "      <th>region</th>\n",
       "    </tr>\n",
       "  </thead>\n",
       "  <tbody>\n",
       "    <tr>\n",
       "      <th>0</th>\n",
       "      <td>0</td>\n",
       "      <td>37</td>\n",
       "      <td>4</td>\n",
       "      <td>281.03</td>\n",
       "      <td>2</td>\n",
       "    </tr>\n",
       "    <tr>\n",
       "      <th>1</th>\n",
       "      <td>0</td>\n",
       "      <td>35</td>\n",
       "      <td>2</td>\n",
       "      <td>219.51</td>\n",
       "      <td>2</td>\n",
       "    </tr>\n",
       "    <tr>\n",
       "      <th>2</th>\n",
       "      <td>1</td>\n",
       "      <td>45</td>\n",
       "      <td>3</td>\n",
       "      <td>1525.70</td>\n",
       "      <td>4</td>\n",
       "    </tr>\n",
       "    <tr>\n",
       "      <th>3</th>\n",
       "      <td>1</td>\n",
       "      <td>46</td>\n",
       "      <td>3</td>\n",
       "      <td>715.25</td>\n",
       "      <td>3</td>\n",
       "    </tr>\n",
       "    <tr>\n",
       "      <th>4</th>\n",
       "      <td>1</td>\n",
       "      <td>33</td>\n",
       "      <td>4</td>\n",
       "      <td>1937.50</td>\n",
       "      <td>1</td>\n",
       "    </tr>\n",
       "  </tbody>\n",
       "</table>\n",
       "</div>"
      ],
      "text/plain": [
       "   in-store  age  items   amount  region\n",
       "0         0   37      4   281.03       2\n",
       "1         0   35      2   219.51       2\n",
       "2         1   45      3  1525.70       4\n",
       "3         1   46      3   715.25       3\n",
       "4         1   33      4  1937.50       1"
      ]
     },
     "execution_count": 3,
     "metadata": {},
     "output_type": "execute_result"
    }
   ],
   "source": [
    "data.head()"
   ]
  },
  {
   "cell_type": "code",
   "execution_count": 4,
   "id": "3615dad3",
   "metadata": {},
   "outputs": [
    {
     "data": {
      "text/html": [
       "<div>\n",
       "<style scoped>\n",
       "    .dataframe tbody tr th:only-of-type {\n",
       "        vertical-align: middle;\n",
       "    }\n",
       "\n",
       "    .dataframe tbody tr th {\n",
       "        vertical-align: top;\n",
       "    }\n",
       "\n",
       "    .dataframe thead th {\n",
       "        text-align: right;\n",
       "    }\n",
       "</style>\n",
       "<table border=\"1\" class=\"dataframe\">\n",
       "  <thead>\n",
       "    <tr style=\"text-align: right;\">\n",
       "      <th></th>\n",
       "      <th>in-store</th>\n",
       "      <th>age</th>\n",
       "      <th>items</th>\n",
       "      <th>amount</th>\n",
       "      <th>region</th>\n",
       "    </tr>\n",
       "  </thead>\n",
       "  <tbody>\n",
       "    <tr>\n",
       "      <th>count</th>\n",
       "      <td>80000.000000</td>\n",
       "      <td>80000.000000</td>\n",
       "      <td>80000.000000</td>\n",
       "      <td>80000.000000</td>\n",
       "      <td>80000.000000</td>\n",
       "    </tr>\n",
       "    <tr>\n",
       "      <th>mean</th>\n",
       "      <td>0.500000</td>\n",
       "      <td>45.757925</td>\n",
       "      <td>4.504975</td>\n",
       "      <td>835.919670</td>\n",
       "      <td>2.675000</td>\n",
       "    </tr>\n",
       "    <tr>\n",
       "      <th>std</th>\n",
       "      <td>0.500003</td>\n",
       "      <td>15.715679</td>\n",
       "      <td>2.061238</td>\n",
       "      <td>721.273736</td>\n",
       "      <td>1.126672</td>\n",
       "    </tr>\n",
       "    <tr>\n",
       "      <th>min</th>\n",
       "      <td>0.000000</td>\n",
       "      <td>18.000000</td>\n",
       "      <td>1.000000</td>\n",
       "      <td>5.004700</td>\n",
       "      <td>1.000000</td>\n",
       "    </tr>\n",
       "    <tr>\n",
       "      <th>25%</th>\n",
       "      <td>0.000000</td>\n",
       "      <td>33.000000</td>\n",
       "      <td>3.000000</td>\n",
       "      <td>285.140000</td>\n",
       "      <td>2.000000</td>\n",
       "    </tr>\n",
       "    <tr>\n",
       "      <th>50%</th>\n",
       "      <td>0.500000</td>\n",
       "      <td>45.000000</td>\n",
       "      <td>4.000000</td>\n",
       "      <td>582.315000</td>\n",
       "      <td>3.000000</td>\n",
       "    </tr>\n",
       "    <tr>\n",
       "      <th>75%</th>\n",
       "      <td>1.000000</td>\n",
       "      <td>56.000000</td>\n",
       "      <td>6.000000</td>\n",
       "      <td>1233.700000</td>\n",
       "      <td>4.000000</td>\n",
       "    </tr>\n",
       "    <tr>\n",
       "      <th>max</th>\n",
       "      <td>1.000000</td>\n",
       "      <td>85.000000</td>\n",
       "      <td>8.000000</td>\n",
       "      <td>3000.000000</td>\n",
       "      <td>4.000000</td>\n",
       "    </tr>\n",
       "  </tbody>\n",
       "</table>\n",
       "</div>"
      ],
      "text/plain": [
       "           in-store           age         items        amount        region\n",
       "count  80000.000000  80000.000000  80000.000000  80000.000000  80000.000000\n",
       "mean       0.500000     45.757925      4.504975    835.919670      2.675000\n",
       "std        0.500003     15.715679      2.061238    721.273736      1.126672\n",
       "min        0.000000     18.000000      1.000000      5.004700      1.000000\n",
       "25%        0.000000     33.000000      3.000000    285.140000      2.000000\n",
       "50%        0.500000     45.000000      4.000000    582.315000      3.000000\n",
       "75%        1.000000     56.000000      6.000000   1233.700000      4.000000\n",
       "max        1.000000     85.000000      8.000000   3000.000000      4.000000"
      ]
     },
     "execution_count": 4,
     "metadata": {},
     "output_type": "execute_result"
    }
   ],
   "source": [
    "data.describe()"
   ]
  },
  {
   "cell_type": "code",
   "execution_count": 5,
   "id": "5f7dd989",
   "metadata": {},
   "outputs": [
    {
     "data": {
      "text/html": [
       "<div>\n",
       "<style scoped>\n",
       "    .dataframe tbody tr th:only-of-type {\n",
       "        vertical-align: middle;\n",
       "    }\n",
       "\n",
       "    .dataframe tbody tr th {\n",
       "        vertical-align: top;\n",
       "    }\n",
       "\n",
       "    .dataframe thead th {\n",
       "        text-align: right;\n",
       "    }\n",
       "</style>\n",
       "<table border=\"1\" class=\"dataframe\">\n",
       "  <thead>\n",
       "    <tr style=\"text-align: right;\">\n",
       "      <th></th>\n",
       "      <th>in-store</th>\n",
       "      <th>age</th>\n",
       "      <th>items</th>\n",
       "      <th>amount</th>\n",
       "      <th>region</th>\n",
       "    </tr>\n",
       "  </thead>\n",
       "  <tbody>\n",
       "    <tr>\n",
       "      <th>count</th>\n",
       "      <td>79979.000000</td>\n",
       "      <td>79979.000000</td>\n",
       "      <td>79979.000000</td>\n",
       "      <td>79979.000000</td>\n",
       "      <td>79979.000000</td>\n",
       "    </tr>\n",
       "    <tr>\n",
       "      <th>mean</th>\n",
       "      <td>0.500006</td>\n",
       "      <td>45.758512</td>\n",
       "      <td>4.505133</td>\n",
       "      <td>835.825727</td>\n",
       "      <td>2.674915</td>\n",
       "    </tr>\n",
       "    <tr>\n",
       "      <th>std</th>\n",
       "      <td>0.500003</td>\n",
       "      <td>15.715158</td>\n",
       "      <td>2.061250</td>\n",
       "      <td>721.263650</td>\n",
       "      <td>1.126642</td>\n",
       "    </tr>\n",
       "    <tr>\n",
       "      <th>min</th>\n",
       "      <td>0.000000</td>\n",
       "      <td>18.000000</td>\n",
       "      <td>1.000000</td>\n",
       "      <td>5.004700</td>\n",
       "      <td>1.000000</td>\n",
       "    </tr>\n",
       "    <tr>\n",
       "      <th>25%</th>\n",
       "      <td>0.000000</td>\n",
       "      <td>33.000000</td>\n",
       "      <td>3.000000</td>\n",
       "      <td>285.120000</td>\n",
       "      <td>2.000000</td>\n",
       "    </tr>\n",
       "    <tr>\n",
       "      <th>50%</th>\n",
       "      <td>1.000000</td>\n",
       "      <td>45.000000</td>\n",
       "      <td>4.000000</td>\n",
       "      <td>582.140000</td>\n",
       "      <td>3.000000</td>\n",
       "    </tr>\n",
       "    <tr>\n",
       "      <th>75%</th>\n",
       "      <td>1.000000</td>\n",
       "      <td>56.000000</td>\n",
       "      <td>6.000000</td>\n",
       "      <td>1233.400000</td>\n",
       "      <td>4.000000</td>\n",
       "    </tr>\n",
       "    <tr>\n",
       "      <th>max</th>\n",
       "      <td>1.000000</td>\n",
       "      <td>85.000000</td>\n",
       "      <td>8.000000</td>\n",
       "      <td>3000.000000</td>\n",
       "      <td>4.000000</td>\n",
       "    </tr>\n",
       "  </tbody>\n",
       "</table>\n",
       "</div>"
      ],
      "text/plain": [
       "           in-store           age         items        amount        region\n",
       "count  79979.000000  79979.000000  79979.000000  79979.000000  79979.000000\n",
       "mean       0.500006     45.758512      4.505133    835.825727      2.674915\n",
       "std        0.500003     15.715158      2.061250    721.263650      1.126642\n",
       "min        0.000000     18.000000      1.000000      5.004700      1.000000\n",
       "25%        0.000000     33.000000      3.000000    285.120000      2.000000\n",
       "50%        1.000000     45.000000      4.000000    582.140000      3.000000\n",
       "75%        1.000000     56.000000      6.000000   1233.400000      4.000000\n",
       "max        1.000000     85.000000      8.000000   3000.000000      4.000000"
      ]
     },
     "execution_count": 5,
     "metadata": {},
     "output_type": "execute_result"
    }
   ],
   "source": [
    "data = data.drop_duplicates()\n",
    "data.describe()"
   ]
  },
  {
   "cell_type": "code",
   "execution_count": 6,
   "id": "6986498e",
   "metadata": {},
   "outputs": [
    {
     "name": "stdout",
     "output_type": "stream",
     "text": [
      "in-store    0\n",
      "age         0\n",
      "items       0\n",
      "amount      0\n",
      "region      0\n",
      "dtype: int64\n"
     ]
    }
   ],
   "source": [
    "print(data.isnull().sum())"
   ]
  },
  {
   "cell_type": "markdown",
   "id": "e918e65c",
   "metadata": {},
   "source": [
    "Question1: Do customers in different regions spend more per transaction? \n",
    "    (rows = transactions)\n",
    "    Important columns: region, amount\n",
    "    groupby - region, find aggregates for amount of each group\n",
    "    Which aggregates? Mean, mean absolute deviation, min and max\n",
    "\n",
    "Question2: Is there a relationship between number of items purchased and amount spent?\n",
    "    Important columns: items, amount\n",
    "    groupby - items, find aggregates for amount of each group\n",
    "\n",
    "Clean up data = remove outliers, rename region and in-store data.\n",
    "    will need to remove outliers for each question separately? \n",
    "        both would be for amount - but other tasks require same data"
   ]
  },
  {
   "cell_type": "code",
   "execution_count": 7,
   "id": "f85e8c8f",
   "metadata": {},
   "outputs": [
    {
     "data": {
      "text/html": [
       "<div>\n",
       "<style scoped>\n",
       "    .dataframe tbody tr th:only-of-type {\n",
       "        vertical-align: middle;\n",
       "    }\n",
       "\n",
       "    .dataframe tbody tr th {\n",
       "        vertical-align: top;\n",
       "    }\n",
       "\n",
       "    .dataframe thead th {\n",
       "        text-align: right;\n",
       "    }\n",
       "</style>\n",
       "<table border=\"1\" class=\"dataframe\">\n",
       "  <thead>\n",
       "    <tr style=\"text-align: right;\">\n",
       "      <th></th>\n",
       "      <th>in-store</th>\n",
       "      <th>age</th>\n",
       "      <th>items</th>\n",
       "      <th>amount</th>\n",
       "      <th>region</th>\n",
       "    </tr>\n",
       "  </thead>\n",
       "  <tbody>\n",
       "    <tr>\n",
       "      <th>0</th>\n",
       "      <td>0</td>\n",
       "      <td>37</td>\n",
       "      <td>4</td>\n",
       "      <td>281.03</td>\n",
       "      <td>South</td>\n",
       "    </tr>\n",
       "    <tr>\n",
       "      <th>1</th>\n",
       "      <td>0</td>\n",
       "      <td>35</td>\n",
       "      <td>2</td>\n",
       "      <td>219.51</td>\n",
       "      <td>South</td>\n",
       "    </tr>\n",
       "    <tr>\n",
       "      <th>2</th>\n",
       "      <td>1</td>\n",
       "      <td>45</td>\n",
       "      <td>3</td>\n",
       "      <td>1525.70</td>\n",
       "      <td>West</td>\n",
       "    </tr>\n",
       "    <tr>\n",
       "      <th>3</th>\n",
       "      <td>1</td>\n",
       "      <td>46</td>\n",
       "      <td>3</td>\n",
       "      <td>715.25</td>\n",
       "      <td>East</td>\n",
       "    </tr>\n",
       "    <tr>\n",
       "      <th>4</th>\n",
       "      <td>1</td>\n",
       "      <td>33</td>\n",
       "      <td>4</td>\n",
       "      <td>1937.50</td>\n",
       "      <td>North</td>\n",
       "    </tr>\n",
       "  </tbody>\n",
       "</table>\n",
       "</div>"
      ],
      "text/plain": [
       "   in-store  age  items   amount region\n",
       "0         0   37      4   281.03  South\n",
       "1         0   35      2   219.51  South\n",
       "2         1   45      3  1525.70   West\n",
       "3         1   46      3   715.25   East\n",
       "4         1   33      4  1937.50  North"
      ]
     },
     "execution_count": 7,
     "metadata": {},
     "output_type": "execute_result"
    }
   ],
   "source": [
    "#rename regions\n",
    "data['region'] = data['region'].astype('string')\n",
    "data['region'] = data['region'].replace('1','North')\n",
    "data['region'] = data['region'].replace('2','South')\n",
    "data['region'] = data['region'].replace('3','East')\n",
    "data['region'] = data['region'].replace('4','West')\n",
    "data.head()"
   ]
  },
  {
   "cell_type": "code",
   "execution_count": 8,
   "id": "8c9f5fd2",
   "metadata": {},
   "outputs": [
    {
     "data": {
      "text/html": [
       "<div>\n",
       "<style scoped>\n",
       "    .dataframe tbody tr th:only-of-type {\n",
       "        vertical-align: middle;\n",
       "    }\n",
       "\n",
       "    .dataframe tbody tr th {\n",
       "        vertical-align: top;\n",
       "    }\n",
       "\n",
       "    .dataframe thead th {\n",
       "        text-align: right;\n",
       "    }\n",
       "</style>\n",
       "<table border=\"1\" class=\"dataframe\">\n",
       "  <thead>\n",
       "    <tr style=\"text-align: right;\">\n",
       "      <th></th>\n",
       "      <th>in-store</th>\n",
       "      <th>age</th>\n",
       "      <th>items</th>\n",
       "      <th>amount</th>\n",
       "      <th>region</th>\n",
       "    </tr>\n",
       "  </thead>\n",
       "  <tbody>\n",
       "    <tr>\n",
       "      <th>0</th>\n",
       "      <td>In-Store</td>\n",
       "      <td>37</td>\n",
       "      <td>4</td>\n",
       "      <td>281.03</td>\n",
       "      <td>South</td>\n",
       "    </tr>\n",
       "    <tr>\n",
       "      <th>1</th>\n",
       "      <td>In-Store</td>\n",
       "      <td>35</td>\n",
       "      <td>2</td>\n",
       "      <td>219.51</td>\n",
       "      <td>South</td>\n",
       "    </tr>\n",
       "    <tr>\n",
       "      <th>2</th>\n",
       "      <td>Online</td>\n",
       "      <td>45</td>\n",
       "      <td>3</td>\n",
       "      <td>1525.70</td>\n",
       "      <td>West</td>\n",
       "    </tr>\n",
       "    <tr>\n",
       "      <th>3</th>\n",
       "      <td>Online</td>\n",
       "      <td>46</td>\n",
       "      <td>3</td>\n",
       "      <td>715.25</td>\n",
       "      <td>East</td>\n",
       "    </tr>\n",
       "    <tr>\n",
       "      <th>4</th>\n",
       "      <td>Online</td>\n",
       "      <td>33</td>\n",
       "      <td>4</td>\n",
       "      <td>1937.50</td>\n",
       "      <td>North</td>\n",
       "    </tr>\n",
       "  </tbody>\n",
       "</table>\n",
       "</div>"
      ],
      "text/plain": [
       "   in-store  age  items   amount region\n",
       "0  In-Store   37      4   281.03  South\n",
       "1  In-Store   35      2   219.51  South\n",
       "2    Online   45      3  1525.70   West\n",
       "3    Online   46      3   715.25   East\n",
       "4    Online   33      4  1937.50  North"
      ]
     },
     "execution_count": 8,
     "metadata": {},
     "output_type": "execute_result"
    }
   ],
   "source": [
    "#change name of in-store column values\n",
    "data['in-store'] = data['in-store'].astype('string')\n",
    "data['in-store'] = data['in-store'].replace('0','In-Store')\n",
    "data['in-store'] = data['in-store'].replace('1','Online')\n",
    "data.head()"
   ]
  },
  {
   "cell_type": "code",
   "execution_count": 113,
   "id": "7b1824c2",
   "metadata": {},
   "outputs": [
    {
     "data": {
      "image/png": "[encoded data removed]",
      "text/plain": [
       "<Figure size 432x288 with 1 Axes>"
      ]
     },
     "metadata": {
      "needs_background": "light"
     },
     "output_type": "display_data"
    }
   ],
   "source": [
    "#Checking with visualizations\n",
    "ax = sns.boxplot(x=\"amount\", y=\"region\", data=data, palette=\"summer\")"
   ]
  },
  {
   "cell_type": "code",
   "execution_count": 10,
   "id": "8d3ba1d6",
   "metadata": {},
   "outputs": [
    {
     "name": "stdout",
     "output_type": "stream",
     "text": [
      "80.3809 2409.119999999998 835.8257266344899\n"
     ]
    }
   ],
   "source": [
    "#finding the limits of the interquartile ranges \n",
    "#outliers will be beyond these ranges\n",
    "q05 = np.quantile(data.amount,.05)\n",
    "q95 = np.quantile(data.amount,.95)\n",
    "mean = np.mean(data.amount)\n",
    "print(q05, q95,mean)"
   ]
  },
  {
   "cell_type": "code",
   "execution_count": 11,
   "id": "4884fae1",
   "metadata": {},
   "outputs": [
    {
     "data": {
      "text/html": [
       "<div>\n",
       "<style scoped>\n",
       "    .dataframe tbody tr th:only-of-type {\n",
       "        vertical-align: middle;\n",
       "    }\n",
       "\n",
       "    .dataframe tbody tr th {\n",
       "        vertical-align: top;\n",
       "    }\n",
       "\n",
       "    .dataframe thead th {\n",
       "        text-align: right;\n",
       "    }\n",
       "</style>\n",
       "<table border=\"1\" class=\"dataframe\">\n",
       "  <thead>\n",
       "    <tr style=\"text-align: right;\">\n",
       "      <th></th>\n",
       "      <th>age</th>\n",
       "      <th>items</th>\n",
       "      <th>amount</th>\n",
       "    </tr>\n",
       "  </thead>\n",
       "  <tbody>\n",
       "    <tr>\n",
       "      <th>count</th>\n",
       "      <td>71981.000000</td>\n",
       "      <td>71981.000000</td>\n",
       "      <td>71981.000000</td>\n",
       "    </tr>\n",
       "    <tr>\n",
       "      <th>mean</th>\n",
       "      <td>45.598630</td>\n",
       "      <td>4.504772</td>\n",
       "      <td>775.770922</td>\n",
       "    </tr>\n",
       "    <tr>\n",
       "      <th>std</th>\n",
       "      <td>15.622632</td>\n",
       "      <td>2.060598</td>\n",
       "      <td>586.817310</td>\n",
       "    </tr>\n",
       "    <tr>\n",
       "      <th>min</th>\n",
       "      <td>18.000000</td>\n",
       "      <td>1.000000</td>\n",
       "      <td>80.381000</td>\n",
       "    </tr>\n",
       "    <tr>\n",
       "      <th>25%</th>\n",
       "      <td>33.000000</td>\n",
       "      <td>3.000000</td>\n",
       "      <td>309.960000</td>\n",
       "    </tr>\n",
       "    <tr>\n",
       "      <th>50%</th>\n",
       "      <td>44.000000</td>\n",
       "      <td>4.000000</td>\n",
       "      <td>582.140000</td>\n",
       "    </tr>\n",
       "    <tr>\n",
       "      <th>75%</th>\n",
       "      <td>56.000000</td>\n",
       "      <td>6.000000</td>\n",
       "      <td>1118.800000</td>\n",
       "    </tr>\n",
       "    <tr>\n",
       "      <th>max</th>\n",
       "      <td>85.000000</td>\n",
       "      <td>8.000000</td>\n",
       "      <td>2409.100000</td>\n",
       "    </tr>\n",
       "  </tbody>\n",
       "</table>\n",
       "</div>"
      ],
      "text/plain": [
       "                age         items        amount\n",
       "count  71981.000000  71981.000000  71981.000000\n",
       "mean      45.598630      4.504772    775.770922\n",
       "std       15.622632      2.060598    586.817310\n",
       "min       18.000000      1.000000     80.381000\n",
       "25%       33.000000      3.000000    309.960000\n",
       "50%       44.000000      4.000000    582.140000\n",
       "75%       56.000000      6.000000   1118.800000\n",
       "max       85.000000      8.000000   2409.100000"
      ]
     },
     "execution_count": 11,
     "metadata": {},
     "output_type": "execute_result"
    }
   ],
   "source": [
    "#removing outliers using quartile ranges\n",
    "data2 = data[(data.amount>=q05) & (data.amount<=q95)]\n",
    "outliers = data[(data.amount<q05) & (data.amount>q95)]\n",
    "data2.describe()"
   ]
  },
  {
   "cell_type": "code",
   "execution_count": 12,
   "id": "c1f10429",
   "metadata": {
    "scrolled": false
   },
   "outputs": [
    {
     "data": {
      "text/html": [
       "<div>\n",
       "<style scoped>\n",
       "    .dataframe tbody tr th:only-of-type {\n",
       "        vertical-align: middle;\n",
       "    }\n",
       "\n",
       "    .dataframe tbody tr th {\n",
       "        vertical-align: top;\n",
       "    }\n",
       "\n",
       "    .dataframe thead th {\n",
       "        text-align: right;\n",
       "    }\n",
       "</style>\n",
       "<table border=\"1\" class=\"dataframe\">\n",
       "  <thead>\n",
       "    <tr style=\"text-align: right;\">\n",
       "      <th></th>\n",
       "      <th>count</th>\n",
       "      <th>mean</th>\n",
       "      <th>std</th>\n",
       "      <th>min</th>\n",
       "      <th>25%</th>\n",
       "      <th>50%</th>\n",
       "      <th>75%</th>\n",
       "      <th>max</th>\n",
       "    </tr>\n",
       "    <tr>\n",
       "      <th>region</th>\n",
       "      <th></th>\n",
       "      <th></th>\n",
       "      <th></th>\n",
       "      <th></th>\n",
       "      <th></th>\n",
       "      <th></th>\n",
       "      <th></th>\n",
       "      <th></th>\n",
       "    </tr>\n",
       "  </thead>\n",
       "  <tbody>\n",
       "    <tr>\n",
       "      <th>East</th>\n",
       "      <td>16263.0</td>\n",
       "      <td>781.750579</td>\n",
       "      <td>561.132683</td>\n",
       "      <td>80.385</td>\n",
       "      <td>364.940</td>\n",
       "      <td>659.62</td>\n",
       "      <td>951.875</td>\n",
       "      <td>2409.10</td>\n",
       "    </tr>\n",
       "    <tr>\n",
       "      <th>North</th>\n",
       "      <td>15563.0</td>\n",
       "      <td>763.935680</td>\n",
       "      <td>486.399290</td>\n",
       "      <td>80.510</td>\n",
       "      <td>382.135</td>\n",
       "      <td>680.24</td>\n",
       "      <td>980.830</td>\n",
       "      <td>1999.80</td>\n",
       "    </tr>\n",
       "    <tr>\n",
       "      <th>South</th>\n",
       "      <td>16967.0</td>\n",
       "      <td>289.427913</td>\n",
       "      <td>121.232103</td>\n",
       "      <td>80.381</td>\n",
       "      <td>184.440</td>\n",
       "      <td>288.26</td>\n",
       "      <td>394.060</td>\n",
       "      <td>499.94</td>\n",
       "    </tr>\n",
       "    <tr>\n",
       "      <th>West</th>\n",
       "      <td>23188.0</td>\n",
       "      <td>1135.384797</td>\n",
       "      <td>613.264262</td>\n",
       "      <td>80.483</td>\n",
       "      <td>613.630</td>\n",
       "      <td>1122.60</td>\n",
       "      <td>1642.800</td>\n",
       "      <td>2409.10</td>\n",
       "    </tr>\n",
       "  </tbody>\n",
       "</table>\n",
       "</div>"
      ],
      "text/plain": [
       "          count         mean         std     min      25%      50%       75%  \\\n",
       "region                                                                         \n",
       "East    16263.0   781.750579  561.132683  80.385  364.940   659.62   951.875   \n",
       "North   15563.0   763.935680  486.399290  80.510  382.135   680.24   980.830   \n",
       "South   16967.0   289.427913  121.232103  80.381  184.440   288.26   394.060   \n",
       "West    23188.0  1135.384797  613.264262  80.483  613.630  1122.60  1642.800   \n",
       "\n",
       "            max  \n",
       "region           \n",
       "East    2409.10  \n",
       "North   1999.80  \n",
       "South    499.94  \n",
       "West    2409.10  "
      ]
     },
     "execution_count": 12,
     "metadata": {},
     "output_type": "execute_result"
    }
   ],
   "source": [
    "#Question 1 start\n",
    "#group data by region and amount, get aggregations for each\n",
    "Q1 = data2.groupby('region')['amount'].describe()\n",
    "Q1"
   ]
  },
  {
   "cell_type": "code",
   "execution_count": 126,
   "id": "ffbd705f",
   "metadata": {},
   "outputs": [
    {
     "data": {
      "image/png": "[encoded data removed]",
      "text/plain": [
       "<Figure size 432x288 with 1 Axes>"
      ]
     },
     "metadata": {
      "needs_background": "light"
     },
     "output_type": "display_data"
    }
   ],
   "source": [
    "#Visualize the ranges for each region\n",
    "ax = sns.boxplot(x=\"amount\", y=\"region\", data=data2, palette=\"summer\")\n",
    "plt.savefig('C1T1_amt_rgn2.png', dpi=300, bbox_inches='tight')"
   ]
  },
  {
   "cell_type": "markdown",
   "id": "da66bcb0",
   "metadata": {},
   "source": [
    "Initial observations: The southern region spends the least amount of money by far. The West spends the most.\n",
    "Would comparing to any other columns reveal why?"
   ]
  },
  {
   "cell_type": "code",
   "execution_count": 125,
   "id": "933163f5",
   "metadata": {},
   "outputs": [
    {
     "data": {
      "image/png": "[encoded data removed]",
      "text/plain": [
       "<Figure size 432x288 with 1 Axes>"
      ]
     },
     "metadata": {
      "needs_background": "light"
     },
     "output_type": "display_data"
    }
   ],
   "source": [
    "#Visualize the ranges for each region, separating the in-store and online data\n",
    "ax = sns.boxplot(x=\"amount\", y=\"region\", hue='in-store', data=data2, palette='summer')\n",
    "plt.savefig('C1T1_amt_rgn1.png', dpi=300, bbox_inches='tight')"
   ]
  },
  {
   "cell_type": "markdown",
   "id": "ee71525b",
   "metadata": {},
   "source": [
    "Comparing the previous information to the in-store column reveals some missing data.\n",
    "\n",
    "There is no data for In-store purchases for the North region. The data is either not given or there have been no in-store purchases made. No purchases is unlikely unless there are no brick-and-mortar stores in the North.\n",
    "\n",
    "There is also no data for Online purchases for the South region. The data is either not given or no in-store purchases were made. No purchases is unlikely, unless no online ordering system exists in the South."
   ]
  },
  {
   "cell_type": "markdown",
   "id": "ef06ffd3",
   "metadata": {},
   "source": [
    "We can still make some observations - East region prefers to spend more in-store, West is more evenly split but still a preference for larger in-store purchases.\n",
    "\n",
    "Even separating the online and in-store purchases, the South still spends the least while the West spends the most. Though the in-store purchases for East and West are about the same, the West spends more online. \n",
    "\n",
    "Would the count make any difference?"
   ]
  },
  {
   "cell_type": "code",
   "execution_count": 130,
   "id": "e1ba0d83",
   "metadata": {},
   "outputs": [
    {
     "data": {
      "image/png": "[encoded data removed]",
      "text/plain": [
       "<Figure size 432x288 with 1 Axes>"
      ]
     },
     "metadata": {
      "needs_background": "light"
     },
     "output_type": "display_data"
    }
   ],
   "source": [
    "ax = sns.countplot(y='region', palette=\"summer\", data=data2)"
   ]
  },
  {
   "cell_type": "markdown",
   "id": "1d341053",
   "metadata": {},
   "source": [
    "There are more purchases in the West region than the others. South, East, and North have around the same count, with North as the least. Interestingly, the South has the second-most, even though there is no online purchase data and they spend the least."
   ]
  },
  {
   "cell_type": "code",
   "execution_count": 131,
   "id": "bcd64024",
   "metadata": {},
   "outputs": [
    {
     "data": {
      "image/png": "[encoded data removed]",
      "text/plain": [
       "<Figure size 435x360 with 1 Axes>"
      ]
     },
     "metadata": {
      "needs_background": "light"
     },
     "output_type": "display_data"
    }
   ],
   "source": [
    "ax = sns.catplot(data=data2, y='region', hue='in-store', palette='summer', kind='count')"
   ]
  },
  {
   "cell_type": "markdown",
   "id": "17304bb1",
   "metadata": {},
   "source": [
    "The South has the most in-store purchases by far, while the North has the most online purchases. Is this because the other option is not available?\n",
    "\n",
    "Either way, there does not appear to be a correlation between the purchase count and the amount spent in those purchases."
   ]
  },
  {
   "cell_type": "code",
   "execution_count": 17,
   "id": "4347ab4e",
   "metadata": {},
   "outputs": [
    {
     "data": {
      "text/html": [
       "<div>\n",
       "<style scoped>\n",
       "    .dataframe tbody tr th:only-of-type {\n",
       "        vertical-align: middle;\n",
       "    }\n",
       "\n",
       "    .dataframe tbody tr th {\n",
       "        vertical-align: top;\n",
       "    }\n",
       "\n",
       "    .dataframe thead th {\n",
       "        text-align: right;\n",
       "    }\n",
       "</style>\n",
       "<table border=\"1\" class=\"dataframe\">\n",
       "  <thead>\n",
       "    <tr style=\"text-align: right;\">\n",
       "      <th></th>\n",
       "      <th>count</th>\n",
       "      <th>mean</th>\n",
       "      <th>std</th>\n",
       "      <th>min</th>\n",
       "      <th>25%</th>\n",
       "      <th>50%</th>\n",
       "      <th>75%</th>\n",
       "      <th>max</th>\n",
       "    </tr>\n",
       "    <tr>\n",
       "      <th>items</th>\n",
       "      <th></th>\n",
       "      <th></th>\n",
       "      <th></th>\n",
       "      <th></th>\n",
       "      <th></th>\n",
       "      <th></th>\n",
       "      <th></th>\n",
       "      <th></th>\n",
       "    </tr>\n",
       "  </thead>\n",
       "  <tbody>\n",
       "    <tr>\n",
       "      <th>1</th>\n",
       "      <td>5134.0</td>\n",
       "      <td>772.276336</td>\n",
       "      <td>585.260558</td>\n",
       "      <td>80.439</td>\n",
       "      <td>311.5375</td>\n",
       "      <td>576.110</td>\n",
       "      <td>1104.050</td>\n",
       "      <td>2408.5</td>\n",
       "    </tr>\n",
       "    <tr>\n",
       "      <th>2</th>\n",
       "      <td>10125.0</td>\n",
       "      <td>783.087130</td>\n",
       "      <td>593.493324</td>\n",
       "      <td>80.381</td>\n",
       "      <td>308.6200</td>\n",
       "      <td>587.130</td>\n",
       "      <td>1138.000</td>\n",
       "      <td>2409.1</td>\n",
       "    </tr>\n",
       "    <tr>\n",
       "      <th>3</th>\n",
       "      <td>10372.0</td>\n",
       "      <td>779.801769</td>\n",
       "      <td>585.522508</td>\n",
       "      <td>80.385</td>\n",
       "      <td>315.2400</td>\n",
       "      <td>591.030</td>\n",
       "      <td>1137.925</td>\n",
       "      <td>2408.6</td>\n",
       "    </tr>\n",
       "    <tr>\n",
       "      <th>4</th>\n",
       "      <td>10410.0</td>\n",
       "      <td>764.121376</td>\n",
       "      <td>580.338423</td>\n",
       "      <td>80.533</td>\n",
       "      <td>307.5325</td>\n",
       "      <td>573.630</td>\n",
       "      <td>1076.150</td>\n",
       "      <td>2407.9</td>\n",
       "    </tr>\n",
       "    <tr>\n",
       "      <th>5</th>\n",
       "      <td>10170.0</td>\n",
       "      <td>779.413376</td>\n",
       "      <td>588.537739</td>\n",
       "      <td>80.583</td>\n",
       "      <td>310.2150</td>\n",
       "      <td>586.370</td>\n",
       "      <td>1123.525</td>\n",
       "      <td>2407.5</td>\n",
       "    </tr>\n",
       "    <tr>\n",
       "      <th>6</th>\n",
       "      <td>10324.0</td>\n",
       "      <td>773.162001</td>\n",
       "      <td>585.169264</td>\n",
       "      <td>80.409</td>\n",
       "      <td>308.2950</td>\n",
       "      <td>574.690</td>\n",
       "      <td>1119.025</td>\n",
       "      <td>2409.1</td>\n",
       "    </tr>\n",
       "    <tr>\n",
       "      <th>7</th>\n",
       "      <td>10244.0</td>\n",
       "      <td>770.907771</td>\n",
       "      <td>585.845856</td>\n",
       "      <td>80.422</td>\n",
       "      <td>307.6100</td>\n",
       "      <td>577.955</td>\n",
       "      <td>1094.775</td>\n",
       "      <td>2408.6</td>\n",
       "    </tr>\n",
       "    <tr>\n",
       "      <th>8</th>\n",
       "      <td>5202.0</td>\n",
       "      <td>787.888810</td>\n",
       "      <td>592.377881</td>\n",
       "      <td>80.598</td>\n",
       "      <td>317.7800</td>\n",
       "      <td>587.055</td>\n",
       "      <td>1163.475</td>\n",
       "      <td>2406.3</td>\n",
       "    </tr>\n",
       "  </tbody>\n",
       "</table>\n",
       "</div>"
      ],
      "text/plain": [
       "         count        mean         std     min       25%      50%       75%  \\\n",
       "items                                                                         \n",
       "1       5134.0  772.276336  585.260558  80.439  311.5375  576.110  1104.050   \n",
       "2      10125.0  783.087130  593.493324  80.381  308.6200  587.130  1138.000   \n",
       "3      10372.0  779.801769  585.522508  80.385  315.2400  591.030  1137.925   \n",
       "4      10410.0  764.121376  580.338423  80.533  307.5325  573.630  1076.150   \n",
       "5      10170.0  779.413376  588.537739  80.583  310.2150  586.370  1123.525   \n",
       "6      10324.0  773.162001  585.169264  80.409  308.2950  574.690  1119.025   \n",
       "7      10244.0  770.907771  585.845856  80.422  307.6100  577.955  1094.775   \n",
       "8       5202.0  787.888810  592.377881  80.598  317.7800  587.055  1163.475   \n",
       "\n",
       "          max  \n",
       "items          \n",
       "1      2408.5  \n",
       "2      2409.1  \n",
       "3      2408.6  \n",
       "4      2407.9  \n",
       "5      2407.5  \n",
       "6      2409.1  \n",
       "7      2408.6  \n",
       "8      2406.3  "
      ]
     },
     "execution_count": 17,
     "metadata": {},
     "output_type": "execute_result"
    }
   ],
   "source": [
    "#Question 2 start\n",
    "#group data by items purchased and amount, get aggregations for each\n",
    "Q2 = data2.groupby('items')['amount'].describe()\n",
    "Q2"
   ]
  },
  {
   "cell_type": "code",
   "execution_count": 127,
   "id": "54fcfb37",
   "metadata": {
    "scrolled": true
   },
   "outputs": [
    {
     "data": {
      "image/png": "[encoded data removed]",
      "text/plain": [
       "<Figure size 432x288 with 1 Axes>"
      ]
     },
     "metadata": {
      "needs_background": "light"
     },
     "output_type": "display_data"
    }
   ],
   "source": [
    "#Plot the information given above\n",
    "ax = sns.boxplot(x=\"amount\", y=\"items\", orient='h', data=data2, palette=\"summer\")\n",
    "plt.savefig('C1T1_amt_itm1.png', dpi=300, bbox_inches='tight')"
   ]
  },
  {
   "cell_type": "markdown",
   "id": "ee6acaa9",
   "metadata": {},
   "source": [
    "There does not appear to be any correlation between the number of items and the total cost of the purchase. Because this is an electronics store, people may be buying large items as single purchases, or along with something small.\n",
    "    #Can I make speculations like that?\n",
    "    \n",
    "Compare with other columns"
   ]
  },
  {
   "cell_type": "code",
   "execution_count": 120,
   "id": "c3e69a75",
   "metadata": {},
   "outputs": [
    {
     "data": {
      "image/png": "[encoded data removed]",
      "text/plain": [
       "<Figure size 360x360 with 1 Axes>"
      ]
     },
     "metadata": {
      "needs_background": "light"
     },
     "output_type": "display_data"
    }
   ],
   "source": [
    "ax = sns.catplot(data=data2, y='items', palette='summer', kind='count')"
   ]
  },
  {
   "cell_type": "markdown",
   "id": "c4402a17",
   "metadata": {},
   "source": [
    "There appear to be fewer single-item and 8-item purchases. Could this affect the amount spent per item? Unlikely."
   ]
  },
  {
   "cell_type": "code",
   "execution_count": 121,
   "id": "de6c44be",
   "metadata": {},
   "outputs": [
    {
     "data": {
      "image/png": "[encoded data removed]",
      "text/plain": [
       "<Figure size 432x288 with 1 Axes>"
      ]
     },
     "metadata": {
      "needs_background": "light"
     },
     "output_type": "display_data"
    }
   ],
   "source": [
    "ax = sns.boxplot(x=\"amount\", y=\"items\", orient='h', data=data2, palette=\"summer\", hue=\"in-store\")"
   ]
  },
  {
   "cell_type": "code",
   "execution_count": 122,
   "id": "a07c273b",
   "metadata": {},
   "outputs": [
    {
     "data": {
      "image/png": "[encoded data removed]",
      "text/plain": [
       "<Figure size 432x288 with 1 Axes>"
      ]
     },
     "metadata": {
      "needs_background": "light"
     },
     "output_type": "display_data"
    }
   ],
   "source": [
    "ax = sns.boxplot(x=\"amount\", y=\"items\", orient='h', data=data2, palette=\"summer\", hue=\"region\")"
   ]
  },
  {
   "cell_type": "code",
   "execution_count": null,
   "id": "b8b706fb",
   "metadata": {},
   "outputs": [],
   "source": [
    "ax = sns.histplot(x=\"amount\", y=\"age\", bins=10, data=data2, hue='amount', palette=\"summer\")"
   ]
  },
  {
   "cell_type": "markdown",
   "id": "0ec3be48",
   "metadata": {},
   "source": [
    "Even after comparisons with other variables, the amount of money spent seems to be the same no matter how many items a customer buys.  There appears to be no correlation between the amount spent and how many items they buy."
   ]
  },
  {
   "cell_type": "code",
   "execution_count": 123,
   "id": "ce32358e",
   "metadata": {},
   "outputs": [
    {
     "data": {
      "image/png": "[encoded data removed]",
      "text/plain": [
       "<Figure size 432x288 with 1 Axes>"
      ]
     },
     "metadata": {
      "needs_background": "light"
     },
     "output_type": "display_data"
    }
   ],
   "source": [
    "#pretty much the same as one of the graphs in q1, but y and hue are switched\n",
    "ax = sns.boxplot(x=\"amount\", y=\"in-store\", data=data2, palette=\"summer\", hue=\"region\")"
   ]
  },
  {
   "cell_type": "code",
   "execution_count": null,
   "id": "e71c5b32",
   "metadata": {},
   "outputs": [],
   "source": []
  }
 ],
 "metadata": {
  "kernelspec": {
   "display_name": "Python 3 (ipykernel)",
   "language": "python",
   "name": "python3"
  },
  "language_info": {
   "codemirror_mode": {
    "name": "ipython",
    "version": 3
   },
   "file_extension": ".py",
   "mimetype": "text/x-python",
   "name": "python",
   "nbconvert_exporter": "python",
   "pygments_lexer": "ipython3",
   "version": "3.10.4"
  }
 },
 "nbformat": 4,
 "nbformat_minor": 5
}

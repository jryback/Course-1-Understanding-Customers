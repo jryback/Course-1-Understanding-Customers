{
 "cells": [
  {
   "cell_type": "code",
   "execution_count": 1,
   "id": "954ca2ed",
   "metadata": {},
   "outputs": [],
   "source": [
    "import pandas as pd\n",
    "import numpy as np\n",
    "import matplotlib as mpl\n",
    "import matplotlib.pyplot as plt"
   ]
  },
  {
   "cell_type": "code",
   "execution_count": 2,
   "id": "f6f4d695",
   "metadata": {},
   "outputs": [],
   "source": [
    "from sklearn.model_selection import train_test_split\n",
    "from sklearn.metrics import accuracy_score, classification_report\n",
    "from sklearn.ensemble import RandomForestClassifier, GradientBoostingClassifier\n",
    "from sklearn.tree import DecisionTreeClassifier\n",
    "from sklearn.model_selection import cross_val_score\n",
    "%matplotlib inline"
   ]
  },
  {
   "cell_type": "code",
   "execution_count": 3,
   "id": "9fbc6dcd",
   "metadata": {},
   "outputs": [],
   "source": [
    "data = pd.read_csv('Demographic_Data.csv')\n",
    "data = pd.DataFrame(data)"
   ]
  },
  {
   "cell_type": "code",
   "execution_count": 4,
   "id": "45c8aa99",
   "metadata": {},
   "outputs": [
    {
     "name": "stdout",
     "output_type": "stream",
     "text": [
      "<class 'pandas.core.frame.DataFrame'>\n",
      "RangeIndex: 80000 entries, 0 to 79999\n",
      "Data columns (total 5 columns):\n",
      " #   Column    Non-Null Count  Dtype  \n",
      "---  ------    --------------  -----  \n",
      " 0   in-store  80000 non-null  int64  \n",
      " 1   age       80000 non-null  int64  \n",
      " 2   items     80000 non-null  int64  \n",
      " 3   amount    80000 non-null  float64\n",
      " 4   region    80000 non-null  int64  \n",
      "dtypes: float64(1), int64(4)\n",
      "memory usage: 3.1 MB\n"
     ]
    }
   ],
   "source": [
    "data.info()"
   ]
  },
  {
   "cell_type": "code",
   "execution_count": 5,
   "id": "a7e8c625",
   "metadata": {},
   "outputs": [
    {
     "data": {
      "text/html": [
       "<div>\n",
       "<style scoped>\n",
       "    .dataframe tbody tr th:only-of-type {\n",
       "        vertical-align: middle;\n",
       "    }\n",
       "\n",
       "    .dataframe tbody tr th {\n",
       "        vertical-align: top;\n",
       "    }\n",
       "\n",
       "    .dataframe thead th {\n",
       "        text-align: right;\n",
       "    }\n",
       "</style>\n",
       "<table border=\"1\" class=\"dataframe\">\n",
       "  <thead>\n",
       "    <tr style=\"text-align: right;\">\n",
       "      <th></th>\n",
       "      <th>in-store</th>\n",
       "      <th>age</th>\n",
       "      <th>items</th>\n",
       "      <th>amount</th>\n",
       "      <th>region</th>\n",
       "    </tr>\n",
       "  </thead>\n",
       "  <tbody>\n",
       "    <tr>\n",
       "      <th>count</th>\n",
       "      <td>80000.000000</td>\n",
       "      <td>80000.000000</td>\n",
       "      <td>80000.000000</td>\n",
       "      <td>80000.000000</td>\n",
       "      <td>80000.000000</td>\n",
       "    </tr>\n",
       "    <tr>\n",
       "      <th>mean</th>\n",
       "      <td>0.500000</td>\n",
       "      <td>45.757925</td>\n",
       "      <td>4.504975</td>\n",
       "      <td>835.919670</td>\n",
       "      <td>2.675000</td>\n",
       "    </tr>\n",
       "    <tr>\n",
       "      <th>std</th>\n",
       "      <td>0.500003</td>\n",
       "      <td>15.715679</td>\n",
       "      <td>2.061238</td>\n",
       "      <td>721.273736</td>\n",
       "      <td>1.126672</td>\n",
       "    </tr>\n",
       "    <tr>\n",
       "      <th>min</th>\n",
       "      <td>0.000000</td>\n",
       "      <td>18.000000</td>\n",
       "      <td>1.000000</td>\n",
       "      <td>5.004700</td>\n",
       "      <td>1.000000</td>\n",
       "    </tr>\n",
       "    <tr>\n",
       "      <th>25%</th>\n",
       "      <td>0.000000</td>\n",
       "      <td>33.000000</td>\n",
       "      <td>3.000000</td>\n",
       "      <td>285.140000</td>\n",
       "      <td>2.000000</td>\n",
       "    </tr>\n",
       "    <tr>\n",
       "      <th>50%</th>\n",
       "      <td>0.500000</td>\n",
       "      <td>45.000000</td>\n",
       "      <td>4.000000</td>\n",
       "      <td>582.315000</td>\n",
       "      <td>3.000000</td>\n",
       "    </tr>\n",
       "    <tr>\n",
       "      <th>75%</th>\n",
       "      <td>1.000000</td>\n",
       "      <td>56.000000</td>\n",
       "      <td>6.000000</td>\n",
       "      <td>1233.700000</td>\n",
       "      <td>4.000000</td>\n",
       "    </tr>\n",
       "    <tr>\n",
       "      <th>max</th>\n",
       "      <td>1.000000</td>\n",
       "      <td>85.000000</td>\n",
       "      <td>8.000000</td>\n",
       "      <td>3000.000000</td>\n",
       "      <td>4.000000</td>\n",
       "    </tr>\n",
       "  </tbody>\n",
       "</table>\n",
       "</div>"
      ],
      "text/plain": [
       "           in-store           age         items        amount        region\n",
       "count  80000.000000  80000.000000  80000.000000  80000.000000  80000.000000\n",
       "mean       0.500000     45.757925      4.504975    835.919670      2.675000\n",
       "std        0.500003     15.715679      2.061238    721.273736      1.126672\n",
       "min        0.000000     18.000000      1.000000      5.004700      1.000000\n",
       "25%        0.000000     33.000000      3.000000    285.140000      2.000000\n",
       "50%        0.500000     45.000000      4.000000    582.315000      3.000000\n",
       "75%        1.000000     56.000000      6.000000   1233.700000      4.000000\n",
       "max        1.000000     85.000000      8.000000   3000.000000      4.000000"
      ]
     },
     "execution_count": 5,
     "metadata": {},
     "output_type": "execute_result"
    }
   ],
   "source": [
    "data.describe()"
   ]
  },
  {
   "cell_type": "code",
   "execution_count": 6,
   "id": "f88b6653",
   "metadata": {},
   "outputs": [
    {
     "data": {
      "text/html": [
       "<div>\n",
       "<style scoped>\n",
       "    .dataframe tbody tr th:only-of-type {\n",
       "        vertical-align: middle;\n",
       "    }\n",
       "\n",
       "    .dataframe tbody tr th {\n",
       "        vertical-align: top;\n",
       "    }\n",
       "\n",
       "    .dataframe thead th {\n",
       "        text-align: right;\n",
       "    }\n",
       "</style>\n",
       "<table border=\"1\" class=\"dataframe\">\n",
       "  <thead>\n",
       "    <tr style=\"text-align: right;\">\n",
       "      <th></th>\n",
       "      <th>in-store</th>\n",
       "      <th>age</th>\n",
       "      <th>items</th>\n",
       "      <th>amount</th>\n",
       "      <th>region</th>\n",
       "    </tr>\n",
       "  </thead>\n",
       "  <tbody>\n",
       "    <tr>\n",
       "      <th>count</th>\n",
       "      <td>79979.000000</td>\n",
       "      <td>79979.000000</td>\n",
       "      <td>79979.000000</td>\n",
       "      <td>79979.000000</td>\n",
       "      <td>79979.000000</td>\n",
       "    </tr>\n",
       "    <tr>\n",
       "      <th>mean</th>\n",
       "      <td>0.500006</td>\n",
       "      <td>45.758512</td>\n",
       "      <td>4.505133</td>\n",
       "      <td>835.825727</td>\n",
       "      <td>2.674915</td>\n",
       "    </tr>\n",
       "    <tr>\n",
       "      <th>std</th>\n",
       "      <td>0.500003</td>\n",
       "      <td>15.715158</td>\n",
       "      <td>2.061250</td>\n",
       "      <td>721.263650</td>\n",
       "      <td>1.126642</td>\n",
       "    </tr>\n",
       "    <tr>\n",
       "      <th>min</th>\n",
       "      <td>0.000000</td>\n",
       "      <td>18.000000</td>\n",
       "      <td>1.000000</td>\n",
       "      <td>5.004700</td>\n",
       "      <td>1.000000</td>\n",
       "    </tr>\n",
       "    <tr>\n",
       "      <th>25%</th>\n",
       "      <td>0.000000</td>\n",
       "      <td>33.000000</td>\n",
       "      <td>3.000000</td>\n",
       "      <td>285.120000</td>\n",
       "      <td>2.000000</td>\n",
       "    </tr>\n",
       "    <tr>\n",
       "      <th>50%</th>\n",
       "      <td>1.000000</td>\n",
       "      <td>45.000000</td>\n",
       "      <td>4.000000</td>\n",
       "      <td>582.140000</td>\n",
       "      <td>3.000000</td>\n",
       "    </tr>\n",
       "    <tr>\n",
       "      <th>75%</th>\n",
       "      <td>1.000000</td>\n",
       "      <td>56.000000</td>\n",
       "      <td>6.000000</td>\n",
       "      <td>1233.400000</td>\n",
       "      <td>4.000000</td>\n",
       "    </tr>\n",
       "    <tr>\n",
       "      <th>max</th>\n",
       "      <td>1.000000</td>\n",
       "      <td>85.000000</td>\n",
       "      <td>8.000000</td>\n",
       "      <td>3000.000000</td>\n",
       "      <td>4.000000</td>\n",
       "    </tr>\n",
       "  </tbody>\n",
       "</table>\n",
       "</div>"
      ],
      "text/plain": [
       "           in-store           age         items        amount        region\n",
       "count  79979.000000  79979.000000  79979.000000  79979.000000  79979.000000\n",
       "mean       0.500006     45.758512      4.505133    835.825727      2.674915\n",
       "std        0.500003     15.715158      2.061250    721.263650      1.126642\n",
       "min        0.000000     18.000000      1.000000      5.004700      1.000000\n",
       "25%        0.000000     33.000000      3.000000    285.120000      2.000000\n",
       "50%        1.000000     45.000000      4.000000    582.140000      3.000000\n",
       "75%        1.000000     56.000000      6.000000   1233.400000      4.000000\n",
       "max        1.000000     85.000000      8.000000   3000.000000      4.000000"
      ]
     },
     "execution_count": 6,
     "metadata": {},
     "output_type": "execute_result"
    }
   ],
   "source": [
    "data = data.drop_duplicates()\n",
    "data.describe()"
   ]
  },
  {
   "cell_type": "code",
   "execution_count": 7,
   "id": "63c6e20c",
   "metadata": {},
   "outputs": [
    {
     "name": "stdout",
     "output_type": "stream",
     "text": [
      "in-store    0\n",
      "age         0\n",
      "items       0\n",
      "amount      0\n",
      "region      0\n",
      "dtype: int64\n"
     ]
    }
   ],
   "source": [
    "print(data.isnull().sum())"
   ]
  },
  {
   "cell_type": "markdown",
   "id": "028b3e62",
   "metadata": {},
   "source": [
    "Question 1: Are there differences the age of customer between regions? Can we predict the age of a customer in a region based on other demographic data?\n",
    "DV: Age, IV: Region, others\n",
    "\n",
    "Question 2: Is there a correlation between age of customer and if the transaction was made online or in the store? Do any other factors predict if a customer will buy online or in stores?\n",
    "DV: In-Store, IV: Age, others"
   ]
  },
  {
   "cell_type": "code",
   "execution_count": 8,
   "id": "ec579368",
   "metadata": {},
   "outputs": [],
   "source": [
    "plt.style.use('seaborn')"
   ]
  },
  {
   "cell_type": "code",
   "execution_count": 9,
   "id": "82a38ee2",
   "metadata": {},
   "outputs": [
    {
     "data": {
      "image/png": "[encoded data removed]",
      "text/plain": [
       "<Figure size 576x396 with 1 Axes>"
      ]
     },
     "metadata": {},
     "output_type": "display_data"
    }
   ],
   "source": [
    "#EDA\n",
    "histplot = data.hist(column='age', bins=68)"
   ]
  },
  {
   "cell_type": "markdown",
   "id": "186c0b55",
   "metadata": {},
   "source": [
    "Overall, The majority of Blackwell's customers are between the ages of 28 and 54. The number drops off dramatically on the younger side, and incrimentally on the older side"
   ]
  },
  {
   "cell_type": "code",
   "execution_count": 66,
   "id": "fb9e81cb",
   "metadata": {},
   "outputs": [
    {
     "data": {
      "image/png": "[encoded data removed]",
      "text/plain": [
       "<Figure size 576x396 with 1 Axes>"
      ]
     },
     "metadata": {},
     "output_type": "display_data"
    }
   ],
   "source": [
    "boxplot = data.boxplot(column='age', by='region', vert=False)\n",
    "plt.savefig('C1T2_age_rgn.png', dpi=300, bbox_inches='tight')"
   ]
  },
  {
   "cell_type": "markdown",
   "id": "f993aa84",
   "metadata": {},
   "source": [
    "Initial observations: Customers in the South tend to be older than their counterparts. Younger people there don't seem to shop at Blackwell Electronics, while older people do. The West region tends to be the youngest, with not as many older customers. "
   ]
  },
  {
   "cell_type": "code",
   "execution_count": 11,
   "id": "9041227d",
   "metadata": {},
   "outputs": [
    {
     "data": {
      "image/png": "[encoded data removed]",
      "text/plain": [
       "<Figure size 576x396 with 4 Axes>"
      ]
     },
     "metadata": {},
     "output_type": "display_data"
    }
   ],
   "source": [
    "histplot = data.hist(column='age', bins=14, by='region')"
   ]
  },
  {
   "cell_type": "markdown",
   "id": "a82cf6d7",
   "metadata": {},
   "source": [
    "The South region seems to have the most even distribution based on age. The West has some spikes in the early thirties and late fourties before dropping off after the mid 50's. the North and East have increasing numbers up to age 30 before evening out. In the East region, the number drops off after 60, while the North drops off early in the mid fifties."
   ]
  },
  {
   "cell_type": "code",
   "execution_count": 69,
   "id": "733ca1b1",
   "metadata": {},
   "outputs": [
    {
     "data": {
      "image/png": "[encoded data removed]",
      "text/plain": [
       "<Figure size 576x396 with 1 Axes>"
      ]
     },
     "metadata": {},
     "output_type": "display_data"
    }
   ],
   "source": [
    "boxplot = data.boxplot(column='age', by='in-store', vert=False)\n",
    "plt.savefig('C1T2_age_ins', dpi=300, bbox_inches='tight')"
   ]
  },
  {
   "cell_type": "markdown",
   "id": "75b22a97",
   "metadata": {},
   "source": [
    "Older people don't use the online store as much. No one over 75 used it. This may be part of the reason there are lower numbers of older people buying electronics."
   ]
  },
  {
   "cell_type": "code",
   "execution_count": 13,
   "id": "d214ea0b",
   "metadata": {},
   "outputs": [
    {
     "data": {
      "image/png": "[encoded data removed]",
      "text/plain": [
       "<Figure size 576x396 with 1 Axes>"
      ]
     },
     "metadata": {},
     "output_type": "display_data"
    }
   ],
   "source": [
    "scatterplot = data.plot.scatter(x='age', y='amount')"
   ]
  },
  {
   "cell_type": "markdown",
   "id": "0988a611",
   "metadata": {},
   "source": [
    "Younger people tend to spend a lot more on electronics than older people. The amount spent drops off sharply around age 65."
   ]
  },
  {
   "cell_type": "code",
   "execution_count": 14,
   "id": "9363a661",
   "metadata": {},
   "outputs": [
    {
     "data": {
      "image/png": "[encoded data removed]",
      "text/plain": [
       "<Figure size 576x396 with 1 Axes>"
      ]
     },
     "metadata": {},
     "output_type": "display_data"
    }
   ],
   "source": [
    "scatter = data.plot.scatter(x='age', y='items')"
   ]
  },
  {
   "cell_type": "code",
   "execution_count": 15,
   "id": "4d07a822",
   "metadata": {},
   "outputs": [
    {
     "data": {
      "image/png": "[encoded data removed]",
      "text/plain": [
       "<Figure size 576x396 with 1 Axes>"
      ]
     },
     "metadata": {},
     "output_type": "display_data"
    }
   ],
   "source": [
    "boxplot = data.boxplot(column='age', by='items', vert=False)"
   ]
  },
  {
   "cell_type": "markdown",
   "id": "6b33476f",
   "metadata": {},
   "source": [
    "Does not seem to be correlation between age and items bought, so not really relevant"
   ]
  },
  {
   "cell_type": "code",
   "execution_count": 72,
   "id": "4d86691c",
   "metadata": {},
   "outputs": [
    {
     "data": {
      "image/png": "[encoded data removed]",
      "text/plain": [
       "<Figure size 576x396 with 1 Axes>"
      ]
     },
     "metadata": {},
     "output_type": "display_data"
    }
   ],
   "source": [
    "boxplot = data.boxplot(column='in-store', by='region', vert=False)"
   ]
  },
  {
   "cell_type": "code",
   "execution_count": 16,
   "id": "8f5183e7",
   "metadata": {},
   "outputs": [
    {
     "name": "stdout",
     "output_type": "stream",
     "text": [
      "summary of feature sample\n"
     ]
    },
    {
     "data": {
      "text/html": [
       "<div>\n",
       "<style scoped>\n",
       "    .dataframe tbody tr th:only-of-type {\n",
       "        vertical-align: middle;\n",
       "    }\n",
       "\n",
       "    .dataframe tbody tr th {\n",
       "        vertical-align: top;\n",
       "    }\n",
       "\n",
       "    .dataframe thead th {\n",
       "        text-align: right;\n",
       "    }\n",
       "</style>\n",
       "<table border=\"1\" class=\"dataframe\">\n",
       "  <thead>\n",
       "    <tr style=\"text-align: right;\">\n",
       "      <th></th>\n",
       "      <th>in-store</th>\n",
       "      <th>age</th>\n",
       "      <th>items</th>\n",
       "      <th>amount</th>\n",
       "    </tr>\n",
       "  </thead>\n",
       "  <tbody>\n",
       "    <tr>\n",
       "      <th>0</th>\n",
       "      <td>0</td>\n",
       "      <td>37</td>\n",
       "      <td>4</td>\n",
       "      <td>281.03</td>\n",
       "    </tr>\n",
       "    <tr>\n",
       "      <th>1</th>\n",
       "      <td>0</td>\n",
       "      <td>35</td>\n",
       "      <td>2</td>\n",
       "      <td>219.51</td>\n",
       "    </tr>\n",
       "    <tr>\n",
       "      <th>2</th>\n",
       "      <td>1</td>\n",
       "      <td>45</td>\n",
       "      <td>3</td>\n",
       "      <td>1525.70</td>\n",
       "    </tr>\n",
       "    <tr>\n",
       "      <th>3</th>\n",
       "      <td>1</td>\n",
       "      <td>46</td>\n",
       "      <td>3</td>\n",
       "      <td>715.25</td>\n",
       "    </tr>\n",
       "    <tr>\n",
       "      <th>4</th>\n",
       "      <td>1</td>\n",
       "      <td>33</td>\n",
       "      <td>4</td>\n",
       "      <td>1937.50</td>\n",
       "    </tr>\n",
       "  </tbody>\n",
       "</table>\n",
       "</div>"
      ],
      "text/plain": [
       "   in-store  age  items   amount\n",
       "0         0   37      4   281.03\n",
       "1         0   35      2   219.51\n",
       "2         1   45      3  1525.70\n",
       "3         1   46      3   715.25\n",
       "4         1   33      4  1937.50"
      ]
     },
     "execution_count": 16,
     "metadata": {},
     "output_type": "execute_result"
    }
   ],
   "source": [
    "#features\n",
    "X = data.iloc[:,data.columns.isin(['items','in-store','amount','age'])]\n",
    "print('summary of feature sample')\n",
    "X.head()"
   ]
  },
  {
   "cell_type": "code",
   "execution_count": 17,
   "id": "ede88836",
   "metadata": {},
   "outputs": [],
   "source": [
    "y = data['region']"
   ]
  },
  {
   "cell_type": "code",
   "execution_count": 18,
   "id": "22c2d683",
   "metadata": {},
   "outputs": [],
   "source": [
    "#Train/Test Split\n",
    "X_train, X_test, y_train, y_test = train_test_split(X, y, test_size = .30, random_state = 123)"
   ]
  },
  {
   "cell_type": "code",
   "execution_count": 19,
   "id": "e5df200f",
   "metadata": {},
   "outputs": [],
   "source": [
    "#Modeling Classification\n",
    "algo = DecisionTreeClassifier()\n",
    "model = algo.fit(X_train,y_train)"
   ]
  },
  {
   "cell_type": "code",
   "execution_count": 20,
   "id": "3d2cc766",
   "metadata": {},
   "outputs": [],
   "source": [
    "#predictions\n",
    "preds = model.predict(X_test)"
   ]
  },
  {
   "cell_type": "code",
   "execution_count": 21,
   "id": "d63c08a6",
   "metadata": {},
   "outputs": [
    {
     "name": "stdout",
     "output_type": "stream",
     "text": [
      "              precision    recall  f1-score   support\n",
      "\n",
      "           1       0.40      0.39      0.40      4838\n",
      "           2       0.91      0.90      0.91      5979\n",
      "           3       0.37      0.38      0.38      5391\n",
      "           4       0.53      0.53      0.53      7786\n",
      "\n",
      "    accuracy                           0.56     23994\n",
      "   macro avg       0.55      0.55      0.55     23994\n",
      "weighted avg       0.56      0.56      0.56     23994\n",
      "\n"
     ]
    }
   ],
   "source": [
    "print(classification_report(y_test, preds))"
   ]
  },
  {
   "cell_type": "markdown",
   "id": "a8d096b9",
   "metadata": {},
   "source": [
    "Just over 50% accuracy. Discretize Amount?"
   ]
  },
  {
   "cell_type": "code",
   "execution_count": 22,
   "id": "855bd2c5",
   "metadata": {},
   "outputs": [],
   "source": [
    "from sklearn.tree import plot_tree"
   ]
  },
  {
   "cell_type": "code",
   "execution_count": 23,
   "id": "0f43316c",
   "metadata": {},
   "outputs": [
    {
     "data": {
      "text/plain": [
       "0     30.0\n",
       "1     30.0\n",
       "2     40.0\n",
       "3     40.0\n",
       "4     30.0\n",
       "5     20.0\n",
       "6     40.0\n",
       "7     60.0\n",
       "8     50.0\n",
       "9     40.0\n",
       "10    40.0\n",
       "11    30.0\n",
       "12    30.0\n",
       "13    40.0\n",
       "14    30.0\n",
       "15    40.0\n",
       "16    10.0\n",
       "17    40.0\n",
       "18    30.0\n",
       "19    50.0\n",
       "Name: decade, dtype: float64"
      ]
     },
     "execution_count": 23,
     "metadata": {},
     "output_type": "execute_result"
    }
   ],
   "source": [
    "#Discretize ages\n",
    "decade = pd.IntervalIndex.from_tuples([(10,20),(20,30),(30,40),(40,50),(50,60),(60,70),(70,80),(80,90)])\n",
    "data['decade']=pd.cut(data['age'],decade)\n",
    "data['decade']=data['decade'].astype('string')\n",
    "data['decade']=data['decade'].replace('(10, 20]','10')\n",
    "data['decade']=data['decade'].replace('(20, 30]','20')\n",
    "data['decade']=data['decade'].replace('(30, 40]','30')\n",
    "data['decade']=data['decade'].replace('(40, 50]','40')\n",
    "data['decade']=data['decade'].replace('(50, 60]','50')\n",
    "data['decade']=data['decade'].replace('(60, 70]','60')\n",
    "data['decade']=data['decade'].replace('(70, 80]','70')\n",
    "data['decade']=data['decade'].replace('(80, 90]','80')\n",
    "data['decade']=data['decade'].astype('float')\n",
    "data['decade'].head(20)"
   ]
  },
  {
   "cell_type": "code",
   "execution_count": 68,
   "id": "f28921f8",
   "metadata": {},
   "outputs": [
    {
     "data": {
      "image/png": "[encoded data removed]",
      "text/plain": [
       "<Figure size 576x396 with 1 Axes>"
      ]
     },
     "metadata": {},
     "output_type": "display_data"
    }
   ],
   "source": [
    "histplot = data.hist(column='decade')"
   ]
  },
  {
   "cell_type": "code",
   "execution_count": 24,
   "id": "7b179ec4",
   "metadata": {},
   "outputs": [
    {
     "data": {
      "text/html": [
       "<div>\n",
       "<style scoped>\n",
       "    .dataframe tbody tr th:only-of-type {\n",
       "        vertical-align: middle;\n",
       "    }\n",
       "\n",
       "    .dataframe tbody tr th {\n",
       "        vertical-align: top;\n",
       "    }\n",
       "\n",
       "    .dataframe thead th {\n",
       "        text-align: right;\n",
       "    }\n",
       "</style>\n",
       "<table border=\"1\" class=\"dataframe\">\n",
       "  <thead>\n",
       "    <tr style=\"text-align: right;\">\n",
       "      <th></th>\n",
       "      <th>in-store</th>\n",
       "      <th>amount</th>\n",
       "      <th>decade</th>\n",
       "    </tr>\n",
       "  </thead>\n",
       "  <tbody>\n",
       "    <tr>\n",
       "      <th>0</th>\n",
       "      <td>0</td>\n",
       "      <td>281.0300</td>\n",
       "      <td>30.0</td>\n",
       "    </tr>\n",
       "    <tr>\n",
       "      <th>1</th>\n",
       "      <td>0</td>\n",
       "      <td>219.5100</td>\n",
       "      <td>30.0</td>\n",
       "    </tr>\n",
       "    <tr>\n",
       "      <th>2</th>\n",
       "      <td>1</td>\n",
       "      <td>1525.7000</td>\n",
       "      <td>40.0</td>\n",
       "    </tr>\n",
       "    <tr>\n",
       "      <th>3</th>\n",
       "      <td>1</td>\n",
       "      <td>715.2500</td>\n",
       "      <td>40.0</td>\n",
       "    </tr>\n",
       "    <tr>\n",
       "      <th>4</th>\n",
       "      <td>1</td>\n",
       "      <td>1937.5000</td>\n",
       "      <td>30.0</td>\n",
       "    </tr>\n",
       "    <tr>\n",
       "      <th>5</th>\n",
       "      <td>0</td>\n",
       "      <td>1314.2000</td>\n",
       "      <td>20.0</td>\n",
       "    </tr>\n",
       "    <tr>\n",
       "      <th>6</th>\n",
       "      <td>0</td>\n",
       "      <td>8.5472</td>\n",
       "      <td>40.0</td>\n",
       "    </tr>\n",
       "    <tr>\n",
       "      <th>7</th>\n",
       "      <td>1</td>\n",
       "      <td>819.9800</td>\n",
       "      <td>60.0</td>\n",
       "    </tr>\n",
       "    <tr>\n",
       "      <th>8</th>\n",
       "      <td>1</td>\n",
       "      <td>908.3100</td>\n",
       "      <td>50.0</td>\n",
       "    </tr>\n",
       "    <tr>\n",
       "      <th>9</th>\n",
       "      <td>1</td>\n",
       "      <td>767.5400</td>\n",
       "      <td>40.0</td>\n",
       "    </tr>\n",
       "    <tr>\n",
       "      <th>10</th>\n",
       "      <td>1</td>\n",
       "      <td>122.3900</td>\n",
       "      <td>40.0</td>\n",
       "    </tr>\n",
       "    <tr>\n",
       "      <th>11</th>\n",
       "      <td>1</td>\n",
       "      <td>684.3200</td>\n",
       "      <td>30.0</td>\n",
       "    </tr>\n",
       "    <tr>\n",
       "      <th>12</th>\n",
       "      <td>0</td>\n",
       "      <td>58.9970</td>\n",
       "      <td>30.0</td>\n",
       "    </tr>\n",
       "    <tr>\n",
       "      <th>13</th>\n",
       "      <td>1</td>\n",
       "      <td>529.5700</td>\n",
       "      <td>40.0</td>\n",
       "    </tr>\n",
       "    <tr>\n",
       "      <th>14</th>\n",
       "      <td>1</td>\n",
       "      <td>270.4900</td>\n",
       "      <td>30.0</td>\n",
       "    </tr>\n",
       "    <tr>\n",
       "      <th>15</th>\n",
       "      <td>0</td>\n",
       "      <td>1585.1000</td>\n",
       "      <td>40.0</td>\n",
       "    </tr>\n",
       "    <tr>\n",
       "      <th>16</th>\n",
       "      <td>1</td>\n",
       "      <td>1901.3000</td>\n",
       "      <td>10.0</td>\n",
       "    </tr>\n",
       "    <tr>\n",
       "      <th>17</th>\n",
       "      <td>1</td>\n",
       "      <td>165.4800</td>\n",
       "      <td>40.0</td>\n",
       "    </tr>\n",
       "    <tr>\n",
       "      <th>18</th>\n",
       "      <td>0</td>\n",
       "      <td>2791.6000</td>\n",
       "      <td>30.0</td>\n",
       "    </tr>\n",
       "    <tr>\n",
       "      <th>19</th>\n",
       "      <td>0</td>\n",
       "      <td>1225.8000</td>\n",
       "      <td>50.0</td>\n",
       "    </tr>\n",
       "  </tbody>\n",
       "</table>\n",
       "</div>"
      ],
      "text/plain": [
       "    in-store     amount  decade\n",
       "0          0   281.0300    30.0\n",
       "1          0   219.5100    30.0\n",
       "2          1  1525.7000    40.0\n",
       "3          1   715.2500    40.0\n",
       "4          1  1937.5000    30.0\n",
       "5          0  1314.2000    20.0\n",
       "6          0     8.5472    40.0\n",
       "7          1   819.9800    60.0\n",
       "8          1   908.3100    50.0\n",
       "9          1   767.5400    40.0\n",
       "10         1   122.3900    40.0\n",
       "11         1   684.3200    30.0\n",
       "12         0    58.9970    30.0\n",
       "13         1   529.5700    40.0\n",
       "14         1   270.4900    30.0\n",
       "15         0  1585.1000    40.0\n",
       "16         1  1901.3000    10.0\n",
       "17         1   165.4800    40.0\n",
       "18         0  2791.6000    30.0\n",
       "19         0  1225.8000    50.0"
      ]
     },
     "execution_count": 24,
     "metadata": {},
     "output_type": "execute_result"
    }
   ],
   "source": [
    "X = data.iloc[:,data.columns.isin(['in-store','amount','decade'])]\n",
    "y = data['region']\n",
    "X.head(20)"
   ]
  },
  {
   "cell_type": "code",
   "execution_count": 25,
   "id": "b4bfb7ad",
   "metadata": {},
   "outputs": [
    {
     "name": "stdout",
     "output_type": "stream",
     "text": [
      "              precision    recall  f1-score   support\n",
      "\n",
      "           1       0.40      0.39      0.40      4838\n",
      "           2       0.91      0.90      0.90      5979\n",
      "           3       0.37      0.38      0.37      5391\n",
      "           4       0.52      0.52      0.52      7786\n",
      "\n",
      "    accuracy                           0.56     23994\n",
      "   macro avg       0.55      0.55      0.55     23994\n",
      "weighted avg       0.56      0.56      0.56     23994\n",
      "\n"
     ]
    }
   ],
   "source": [
    "X_train, X_test, y_train, y_test = train_test_split(X, y, test_size = .30, random_state = 123)\n",
    "algo = DecisionTreeClassifier()\n",
    "model = algo.fit(X_train,y_train)\n",
    "preds = model.predict(X_test)\n",
    "print(classification_report(y_test, preds))"
   ]
  },
  {
   "cell_type": "markdown",
   "id": "d15f9268",
   "metadata": {},
   "source": [
    "Still about same accuracy (slightly less, even), how to improve further? Taking out 'items' column has no effect. Different classification algorithms?"
   ]
  },
  {
   "cell_type": "code",
   "execution_count": 26,
   "id": "edc8f018",
   "metadata": {},
   "outputs": [
    {
     "name": "stdout",
     "output_type": "stream",
     "text": [
      "              precision    recall  f1-score   support\n",
      "\n",
      "           1       0.40      0.49      0.44      4838\n",
      "           2       0.89      1.00      0.94      5979\n",
      "           3       0.47      0.27      0.34      5391\n",
      "           4       0.65      0.69      0.67      7786\n",
      "\n",
      "    accuracy                           0.63     23994\n",
      "   macro avg       0.60      0.61      0.60     23994\n",
      "weighted avg       0.62      0.63      0.62     23994\n",
      "\n"
     ]
    }
   ],
   "source": [
    "X_train, X_test, y_train, y_test = train_test_split(X, y, test_size = .30, random_state = 123)\n",
    "algo = GradientBoostingClassifier()\n",
    "model = algo.fit(X_train,y_train)\n",
    "preds = model.predict(X_test)\n",
    "print(classification_report(y_test, preds))"
   ]
  },
  {
   "cell_type": "markdown",
   "id": "c1909fc7",
   "metadata": {},
   "source": [
    "A bit more accurate overall with Gradient Boosting Classifier. Discretize amount?"
   ]
  },
  {
   "cell_type": "code",
   "execution_count": 27,
   "id": "2aeca7a4",
   "metadata": {},
   "outputs": [
    {
     "name": "stdout",
     "output_type": "stream",
     "text": [
      "              precision    recall  f1-score   support\n",
      "\n",
      "           1       0.40      0.41      0.40      4778\n",
      "           2       0.90      0.90      0.90      5946\n",
      "           3       0.38      0.38      0.38      5504\n",
      "           4       0.52      0.52      0.52      7766\n",
      "\n",
      "    accuracy                           0.56     23994\n",
      "   macro avg       0.55      0.55      0.55     23994\n",
      "weighted avg       0.56      0.56      0.56     23994\n",
      "\n"
     ]
    }
   ],
   "source": [
    "X_train, X_test, y_train, y_test = train_test_split(X, y, test_size = .30,)\n",
    "algo = DecisionTreeClassifier()\n",
    "model = algo.fit(X_train,y_train)\n",
    "preds = model.predict(X_test)\n",
    "print(classification_report(y_test, preds))"
   ]
  },
  {
   "cell_type": "code",
   "execution_count": 28,
   "id": "49f73b02",
   "metadata": {},
   "outputs": [
    {
     "name": "stdout",
     "output_type": "stream",
     "text": [
      "   in-store  items   amount  region\n",
      "0         0      4   281.03       2\n",
      "1         0      2   219.51       2\n",
      "2         1      3  1525.70       4\n",
      "3         1      3   715.25       3\n",
      "4         1      4  1937.50       1\n",
      "              precision    recall  f1-score   support\n",
      "\n",
      "        10.0       0.05      0.04      0.05       628\n",
      "        20.0       0.20      0.21      0.20      3961\n",
      "        30.0       0.23      0.23      0.23      5235\n",
      "        40.0       0.23      0.22      0.23      5326\n",
      "        50.0       0.19      0.19      0.19      4283\n",
      "        60.0       0.16      0.15      0.16      2598\n",
      "        70.0       0.13      0.12      0.12      1439\n",
      "        80.0       0.09      0.09      0.09       524\n",
      "\n",
      "    accuracy                           0.19     23994\n",
      "   macro avg       0.16      0.16      0.16     23994\n",
      "weighted avg       0.19      0.19      0.19     23994\n",
      "\n"
     ]
    }
   ],
   "source": [
    "X = data.iloc[:,~data.columns.isin(['age','decade'])]\n",
    "y = data['decade']\n",
    "print(X.head())\n",
    "\n",
    "X_train, X_test, y_train, y_test = train_test_split(X, y, test_size = .30, random_state = 123)\n",
    "algo = DecisionTreeClassifier()\n",
    "model = algo.fit(X_train,y_train)\n",
    "preds = model.predict(X_test)\n",
    "print(classification_report(y_test, preds))"
   ]
  },
  {
   "cell_type": "markdown",
   "id": "1cbcab94",
   "metadata": {},
   "source": [
    "Precision matches the percentage of data in each bin. How to get it higher?"
   ]
  },
  {
   "cell_type": "code",
   "execution_count": 29,
   "id": "0df00da8",
   "metadata": {},
   "outputs": [
    {
     "data": {
      "text/plain": [
       "0     500.0\n",
       "1     500.0\n",
       "2    2000.0\n",
       "3    1000.0\n",
       "4    2000.0\n",
       "Name: amount_bins, dtype: float64"
      ]
     },
     "execution_count": 29,
     "metadata": {},
     "output_type": "execute_result"
    }
   ],
   "source": [
    "#discretize amounts\n",
    "amount_bins = pd.IntervalIndex.from_tuples([(0,500),(500,1000),(1000,1500),(1500,2000),(2000,2500),(2500,3000)])\n",
    "data['amount_bins']=pd.cut(data['amount'],amount_bins)\n",
    "data['amount_bins']=data['amount_bins'].astype('string')\n",
    "data['amount_bins']=data['amount_bins'].replace('(0, 500]','500')\n",
    "data['amount_bins']=data['amount_bins'].replace('(500, 1000]','1000')\n",
    "data['amount_bins']=data['amount_bins'].replace('(1000, 1500]','1500')\n",
    "data['amount_bins']=data['amount_bins'].replace('(1500, 2000]','2000')\n",
    "data['amount_bins']=data['amount_bins'].replace('(2000, 2500]','2500')\n",
    "data['amount_bins']=data['amount_bins'].replace('(2500, 3000]','3000')\n",
    "data['amount_bins']=data['amount_bins'].astype('float')\n",
    "data['amount_bins'].head()"
   ]
  },
  {
   "cell_type": "code",
   "execution_count": 30,
   "id": "d8b87fbf",
   "metadata": {},
   "outputs": [
    {
     "name": "stdout",
     "output_type": "stream",
     "text": [
      "   in-store  age  items  region  decade\n",
      "0         0   37      4       2    30.0\n",
      "1         0   35      2       2    30.0\n",
      "2         1   45      3       4    40.0\n",
      "3         1   46      3       3    40.0\n",
      "4         1   33      4       1    30.0\n",
      "              precision    recall  f1-score   support\n",
      "\n",
      "       500.0       0.69      0.71      0.70     11014\n",
      "      1000.0       0.38      0.45      0.41      5819\n",
      "      1500.0       0.22      0.21      0.21      2560\n",
      "      2000.0       0.22      0.16      0.19      2592\n",
      "      2500.0       0.14      0.09      0.11      1002\n",
      "      3000.0       0.15      0.11      0.13      1007\n",
      "\n",
      "    accuracy                           0.48     23994\n",
      "   macro avg       0.30      0.29      0.29     23994\n",
      "weighted avg       0.47      0.48      0.47     23994\n",
      "\n"
     ]
    }
   ],
   "source": [
    "X = data.iloc[:,~data.columns.isin(['amount','amount_bins'])]\n",
    "y = data['amount_bins']\n",
    "print(X.head())\n",
    "\n",
    "X_train, X_test, y_train, y_test = train_test_split(X, y, test_size = .30, random_state = 123)\n",
    "algo = DecisionTreeClassifier()\n",
    "model = algo.fit(X_train,y_train)\n",
    "preds = model.predict(X_test)\n",
    "print(classification_report(y_test, preds))"
   ]
  },
  {
   "cell_type": "code",
   "execution_count": 31,
   "id": "df8291c0",
   "metadata": {},
   "outputs": [
    {
     "name": "stdout",
     "output_type": "stream",
     "text": [
      "   in-store  decade  amount_bins\n",
      "0         0    30.0        500.0\n",
      "1         0    30.0        500.0\n",
      "2         1    40.0       2000.0\n",
      "3         1    40.0       1000.0\n",
      "4         1    30.0       2000.0\n",
      "              precision    recall  f1-score   support\n",
      "\n",
      "           1       0.41      0.54      0.46      4791\n",
      "           2       0.88      1.00      0.94      6036\n",
      "           3       0.49      0.22      0.31      5334\n",
      "           4       0.66      0.70      0.68      7833\n",
      "\n",
      "    accuracy                           0.64     23994\n",
      "   macro avg       0.61      0.62      0.60     23994\n",
      "weighted avg       0.63      0.64      0.62     23994\n",
      "\n"
     ]
    }
   ],
   "source": [
    "X = data.iloc[:,~data.columns.isin(['region','amount','age','items'])]\n",
    "y = data['region']\n",
    "print(X.head())\n",
    "\n",
    "X_train, X_test, y_train, y_test = train_test_split(X, y, test_size = .30, random_state = 500)\n",
    "algo = DecisionTreeClassifier()\n",
    "model = algo.fit(X_train,y_train)\n",
    "preds = model.predict(X_test)\n",
    "print(classification_report(y_test, preds))"
   ]
  },
  {
   "cell_type": "code",
   "execution_count": 32,
   "id": "7df4605f",
   "metadata": {},
   "outputs": [
    {
     "name": "stdout",
     "output_type": "stream",
     "text": [
      "              precision    recall  f1-score   support\n",
      "\n",
      "           1       0.41      0.61      0.49      4791\n",
      "           2       0.88      1.00      0.94      6036\n",
      "           3       0.52      0.16      0.24      5334\n",
      "           4       0.66      0.70      0.68      7833\n",
      "\n",
      "    accuracy                           0.64     23994\n",
      "   macro avg       0.62      0.62      0.59     23994\n",
      "weighted avg       0.63      0.64      0.61     23994\n",
      "\n"
     ]
    }
   ],
   "source": [
    "X_train, X_test, y_train, y_test = train_test_split(X, y, test_size = .30, random_state = 500)\n",
    "algo = RandomForestClassifier(max_depth=4,)\n",
    "model = algo.fit(X_train,y_train)\n",
    "preds = model.predict(X_test)\n",
    "print(classification_report(y_test, preds))"
   ]
  },
  {
   "cell_type": "markdown",
   "id": "e31a4b25",
   "metadata": {},
   "source": [
    "Discretizing the amount and age columns got the decision tree classifier to match the gradient boosting classifier. Taking out the 'items' column slightly improved results for region 3"
   ]
  },
  {
   "cell_type": "code",
   "execution_count": 33,
   "id": "21e11687",
   "metadata": {},
   "outputs": [
    {
     "data": {
      "text/html": [
       "<div>\n",
       "<style scoped>\n",
       "    .dataframe tbody tr th:only-of-type {\n",
       "        vertical-align: middle;\n",
       "    }\n",
       "\n",
       "    .dataframe tbody tr th {\n",
       "        vertical-align: top;\n",
       "    }\n",
       "\n",
       "    .dataframe thead th {\n",
       "        text-align: right;\n",
       "    }\n",
       "</style>\n",
       "<table border=\"1\" class=\"dataframe\">\n",
       "  <thead>\n",
       "    <tr style=\"text-align: right;\">\n",
       "      <th></th>\n",
       "      <th>count</th>\n",
       "      <th>mean</th>\n",
       "      <th>std</th>\n",
       "      <th>min</th>\n",
       "      <th>25%</th>\n",
       "      <th>50%</th>\n",
       "      <th>75%</th>\n",
       "      <th>max</th>\n",
       "    </tr>\n",
       "    <tr>\n",
       "      <th>region</th>\n",
       "      <th></th>\n",
       "      <th></th>\n",
       "      <th></th>\n",
       "      <th></th>\n",
       "      <th></th>\n",
       "      <th></th>\n",
       "      <th></th>\n",
       "      <th></th>\n",
       "    </tr>\n",
       "  </thead>\n",
       "  <tbody>\n",
       "    <tr>\n",
       "      <th>1</th>\n",
       "      <td>15997.0</td>\n",
       "      <td>1.000000</td>\n",
       "      <td>0.000000</td>\n",
       "      <td>1.0</td>\n",
       "      <td>1.0</td>\n",
       "      <td>1.0</td>\n",
       "      <td>1.0</td>\n",
       "      <td>1.0</td>\n",
       "    </tr>\n",
       "    <tr>\n",
       "      <th>2</th>\n",
       "      <td>19994.0</td>\n",
       "      <td>0.000000</td>\n",
       "      <td>0.000000</td>\n",
       "      <td>0.0</td>\n",
       "      <td>0.0</td>\n",
       "      <td>0.0</td>\n",
       "      <td>0.0</td>\n",
       "      <td>0.0</td>\n",
       "    </tr>\n",
       "    <tr>\n",
       "      <th>3</th>\n",
       "      <td>18000.0</td>\n",
       "      <td>0.611056</td>\n",
       "      <td>0.487524</td>\n",
       "      <td>0.0</td>\n",
       "      <td>0.0</td>\n",
       "      <td>1.0</td>\n",
       "      <td>1.0</td>\n",
       "      <td>1.0</td>\n",
       "    </tr>\n",
       "    <tr>\n",
       "      <th>4</th>\n",
       "      <td>25988.0</td>\n",
       "      <td>0.500000</td>\n",
       "      <td>0.500010</td>\n",
       "      <td>0.0</td>\n",
       "      <td>0.0</td>\n",
       "      <td>0.5</td>\n",
       "      <td>1.0</td>\n",
       "      <td>1.0</td>\n",
       "    </tr>\n",
       "  </tbody>\n",
       "</table>\n",
       "</div>"
      ],
      "text/plain": [
       "          count      mean       std  min  25%  50%  75%  max\n",
       "region                                                      \n",
       "1       15997.0  1.000000  0.000000  1.0  1.0  1.0  1.0  1.0\n",
       "2       19994.0  0.000000  0.000000  0.0  0.0  0.0  0.0  0.0\n",
       "3       18000.0  0.611056  0.487524  0.0  0.0  1.0  1.0  1.0\n",
       "4       25988.0  0.500000  0.500010  0.0  0.0  0.5  1.0  1.0"
      ]
     },
     "execution_count": 33,
     "metadata": {},
     "output_type": "execute_result"
    }
   ],
   "source": [
    "data.groupby('region')['in-store'].describe()"
   ]
  },
  {
   "cell_type": "code",
   "execution_count": 34,
   "id": "dff75c0d",
   "metadata": {},
   "outputs": [
    {
     "data": {
      "text/html": [
       "<div>\n",
       "<style scoped>\n",
       "    .dataframe tbody tr th:only-of-type {\n",
       "        vertical-align: middle;\n",
       "    }\n",
       "\n",
       "    .dataframe tbody tr th {\n",
       "        vertical-align: top;\n",
       "    }\n",
       "\n",
       "    .dataframe thead th {\n",
       "        text-align: right;\n",
       "    }\n",
       "</style>\n",
       "<table border=\"1\" class=\"dataframe\">\n",
       "  <thead>\n",
       "    <tr style=\"text-align: right;\">\n",
       "      <th></th>\n",
       "      <th>count</th>\n",
       "      <th>mean</th>\n",
       "      <th>std</th>\n",
       "      <th>min</th>\n",
       "      <th>25%</th>\n",
       "      <th>50%</th>\n",
       "      <th>75%</th>\n",
       "      <th>max</th>\n",
       "    </tr>\n",
       "    <tr>\n",
       "      <th>region</th>\n",
       "      <th></th>\n",
       "      <th></th>\n",
       "      <th></th>\n",
       "      <th></th>\n",
       "      <th></th>\n",
       "      <th></th>\n",
       "      <th></th>\n",
       "      <th></th>\n",
       "    </tr>\n",
       "  </thead>\n",
       "  <tbody>\n",
       "    <tr>\n",
       "      <th>1</th>\n",
       "      <td>15997.0</td>\n",
       "      <td>43.704132</td>\n",
       "      <td>14.085525</td>\n",
       "      <td>19.0</td>\n",
       "      <td>32.0</td>\n",
       "      <td>43.0</td>\n",
       "      <td>53.0</td>\n",
       "      <td>74.0</td>\n",
       "    </tr>\n",
       "    <tr>\n",
       "      <th>2</th>\n",
       "      <td>19994.0</td>\n",
       "      <td>56.609083</td>\n",
       "      <td>16.537368</td>\n",
       "      <td>28.0</td>\n",
       "      <td>42.0</td>\n",
       "      <td>57.0</td>\n",
       "      <td>71.0</td>\n",
       "      <td>85.0</td>\n",
       "    </tr>\n",
       "    <tr>\n",
       "      <th>3</th>\n",
       "      <td>18000.0</td>\n",
       "      <td>45.646944</td>\n",
       "      <td>14.417935</td>\n",
       "      <td>18.0</td>\n",
       "      <td>34.0</td>\n",
       "      <td>45.0</td>\n",
       "      <td>57.0</td>\n",
       "      <td>74.0</td>\n",
       "    </tr>\n",
       "    <tr>\n",
       "      <th>4</th>\n",
       "      <td>25988.0</td>\n",
       "      <td>38.752424</td>\n",
       "      <td>11.886239</td>\n",
       "      <td>18.0</td>\n",
       "      <td>29.0</td>\n",
       "      <td>39.0</td>\n",
       "      <td>49.0</td>\n",
       "      <td>63.0</td>\n",
       "    </tr>\n",
       "  </tbody>\n",
       "</table>\n",
       "</div>"
      ],
      "text/plain": [
       "          count       mean        std   min   25%   50%   75%   max\n",
       "region                                                             \n",
       "1       15997.0  43.704132  14.085525  19.0  32.0  43.0  53.0  74.0\n",
       "2       19994.0  56.609083  16.537368  28.0  42.0  57.0  71.0  85.0\n",
       "3       18000.0  45.646944  14.417935  18.0  34.0  45.0  57.0  74.0\n",
       "4       25988.0  38.752424  11.886239  18.0  29.0  39.0  49.0  63.0"
      ]
     },
     "execution_count": 34,
     "metadata": {},
     "output_type": "execute_result"
    }
   ],
   "source": [
    "data.groupby('region')['age'].describe()"
   ]
  },
  {
   "cell_type": "code",
   "execution_count": 35,
   "id": "d21ca64a",
   "metadata": {},
   "outputs": [
    {
     "data": {
      "text/html": [
       "<div>\n",
       "<style scoped>\n",
       "    .dataframe tbody tr th:only-of-type {\n",
       "        vertical-align: middle;\n",
       "    }\n",
       "\n",
       "    .dataframe tbody tr th {\n",
       "        vertical-align: top;\n",
       "    }\n",
       "\n",
       "    .dataframe thead th {\n",
       "        text-align: right;\n",
       "    }\n",
       "</style>\n",
       "<table border=\"1\" class=\"dataframe\">\n",
       "  <thead>\n",
       "    <tr style=\"text-align: right;\">\n",
       "      <th></th>\n",
       "      <th>count</th>\n",
       "      <th>mean</th>\n",
       "      <th>std</th>\n",
       "      <th>min</th>\n",
       "      <th>25%</th>\n",
       "      <th>50%</th>\n",
       "      <th>75%</th>\n",
       "      <th>max</th>\n",
       "    </tr>\n",
       "    <tr>\n",
       "      <th>region</th>\n",
       "      <th></th>\n",
       "      <th></th>\n",
       "      <th></th>\n",
       "      <th></th>\n",
       "      <th></th>\n",
       "      <th></th>\n",
       "      <th></th>\n",
       "      <th></th>\n",
       "    </tr>\n",
       "  </thead>\n",
       "  <tbody>\n",
       "    <tr>\n",
       "      <th>1</th>\n",
       "      <td>15997.0</td>\n",
       "      <td>38.257173</td>\n",
       "      <td>14.485875</td>\n",
       "      <td>10.0</td>\n",
       "      <td>30.0</td>\n",
       "      <td>40.0</td>\n",
       "      <td>50.0</td>\n",
       "      <td>70.0</td>\n",
       "    </tr>\n",
       "    <tr>\n",
       "      <th>2</th>\n",
       "      <td>19994.0</td>\n",
       "      <td>51.225368</td>\n",
       "      <td>16.978216</td>\n",
       "      <td>20.0</td>\n",
       "      <td>40.0</td>\n",
       "      <td>50.0</td>\n",
       "      <td>70.0</td>\n",
       "      <td>80.0</td>\n",
       "    </tr>\n",
       "    <tr>\n",
       "      <th>3</th>\n",
       "      <td>18000.0</td>\n",
       "      <td>40.143889</td>\n",
       "      <td>14.839788</td>\n",
       "      <td>10.0</td>\n",
       "      <td>30.0</td>\n",
       "      <td>40.0</td>\n",
       "      <td>50.0</td>\n",
       "      <td>70.0</td>\n",
       "    </tr>\n",
       "    <tr>\n",
       "      <th>4</th>\n",
       "      <td>25988.0</td>\n",
       "      <td>33.297291</td>\n",
       "      <td>12.355845</td>\n",
       "      <td>10.0</td>\n",
       "      <td>20.0</td>\n",
       "      <td>30.0</td>\n",
       "      <td>40.0</td>\n",
       "      <td>60.0</td>\n",
       "    </tr>\n",
       "  </tbody>\n",
       "</table>\n",
       "</div>"
      ],
      "text/plain": [
       "          count       mean        std   min   25%   50%   75%   max\n",
       "region                                                             \n",
       "1       15997.0  38.257173  14.485875  10.0  30.0  40.0  50.0  70.0\n",
       "2       19994.0  51.225368  16.978216  20.0  40.0  50.0  70.0  80.0\n",
       "3       18000.0  40.143889  14.839788  10.0  30.0  40.0  50.0  70.0\n",
       "4       25988.0  33.297291  12.355845  10.0  20.0  30.0  40.0  60.0"
      ]
     },
     "execution_count": 35,
     "metadata": {},
     "output_type": "execute_result"
    }
   ],
   "source": [
    "data.groupby('region')['decade'].describe()"
   ]
  },
  {
   "cell_type": "code",
   "execution_count": 36,
   "id": "3e3a72ad",
   "metadata": {},
   "outputs": [
    {
     "data": {
      "text/html": [
       "<div>\n",
       "<style scoped>\n",
       "    .dataframe tbody tr th:only-of-type {\n",
       "        vertical-align: middle;\n",
       "    }\n",
       "\n",
       "    .dataframe tbody tr th {\n",
       "        vertical-align: top;\n",
       "    }\n",
       "\n",
       "    .dataframe thead th {\n",
       "        text-align: right;\n",
       "    }\n",
       "</style>\n",
       "<table border=\"1\" class=\"dataframe\">\n",
       "  <thead>\n",
       "    <tr style=\"text-align: right;\">\n",
       "      <th></th>\n",
       "      <th>count</th>\n",
       "      <th>mean</th>\n",
       "      <th>std</th>\n",
       "      <th>min</th>\n",
       "      <th>25%</th>\n",
       "      <th>50%</th>\n",
       "      <th>75%</th>\n",
       "      <th>max</th>\n",
       "    </tr>\n",
       "    <tr>\n",
       "      <th>region</th>\n",
       "      <th></th>\n",
       "      <th></th>\n",
       "      <th></th>\n",
       "      <th></th>\n",
       "      <th></th>\n",
       "      <th></th>\n",
       "      <th></th>\n",
       "      <th></th>\n",
       "    </tr>\n",
       "  </thead>\n",
       "  <tbody>\n",
       "    <tr>\n",
       "      <th>1</th>\n",
       "      <td>15997.0</td>\n",
       "      <td>744.990939</td>\n",
       "      <td>492.989025</td>\n",
       "      <td>50.0500</td>\n",
       "      <td>358.9900</td>\n",
       "      <td>662.860</td>\n",
       "      <td>973.490</td>\n",
       "      <td>1999.80</td>\n",
       "    </tr>\n",
       "    <tr>\n",
       "      <th>2</th>\n",
       "      <td>19994.0</td>\n",
       "      <td>252.097741</td>\n",
       "      <td>142.676946</td>\n",
       "      <td>5.0047</td>\n",
       "      <td>129.6300</td>\n",
       "      <td>250.205</td>\n",
       "      <td>374.920</td>\n",
       "      <td>499.94</td>\n",
       "    </tr>\n",
       "    <tr>\n",
       "      <th>3</th>\n",
       "      <td>18000.0</td>\n",
       "      <td>917.969637</td>\n",
       "      <td>751.409992</td>\n",
       "      <td>50.1320</td>\n",
       "      <td>372.9975</td>\n",
       "      <td>697.825</td>\n",
       "      <td>1134.550</td>\n",
       "      <td>3000.00</td>\n",
       "    </tr>\n",
       "    <tr>\n",
       "      <th>4</th>\n",
       "      <td>25988.0</td>\n",
       "      <td>1283.938357</td>\n",
       "      <td>756.302513</td>\n",
       "      <td>50.6000</td>\n",
       "      <td>659.4575</td>\n",
       "      <td>1230.250</td>\n",
       "      <td>1812.775</td>\n",
       "      <td>3000.00</td>\n",
       "    </tr>\n",
       "  </tbody>\n",
       "</table>\n",
       "</div>"
      ],
      "text/plain": [
       "          count         mean         std      min       25%       50%  \\\n",
       "region                                                                  \n",
       "1       15997.0   744.990939  492.989025  50.0500  358.9900   662.860   \n",
       "2       19994.0   252.097741  142.676946   5.0047  129.6300   250.205   \n",
       "3       18000.0   917.969637  751.409992  50.1320  372.9975   697.825   \n",
       "4       25988.0  1283.938357  756.302513  50.6000  659.4575  1230.250   \n",
       "\n",
       "             75%      max  \n",
       "region                     \n",
       "1        973.490  1999.80  \n",
       "2        374.920   499.94  \n",
       "3       1134.550  3000.00  \n",
       "4       1812.775  3000.00  "
      ]
     },
     "execution_count": 36,
     "metadata": {},
     "output_type": "execute_result"
    }
   ],
   "source": [
    "data.groupby('region')['amount'].describe()"
   ]
  },
  {
   "cell_type": "code",
   "execution_count": 37,
   "id": "c3ac10ef",
   "metadata": {},
   "outputs": [
    {
     "data": {
      "text/html": [
       "<div>\n",
       "<style scoped>\n",
       "    .dataframe tbody tr th:only-of-type {\n",
       "        vertical-align: middle;\n",
       "    }\n",
       "\n",
       "    .dataframe tbody tr th {\n",
       "        vertical-align: top;\n",
       "    }\n",
       "\n",
       "    .dataframe thead th {\n",
       "        text-align: right;\n",
       "    }\n",
       "</style>\n",
       "<table border=\"1\" class=\"dataframe\">\n",
       "  <thead>\n",
       "    <tr style=\"text-align: right;\">\n",
       "      <th></th>\n",
       "      <th>count</th>\n",
       "      <th>mean</th>\n",
       "      <th>std</th>\n",
       "      <th>min</th>\n",
       "      <th>25%</th>\n",
       "      <th>50%</th>\n",
       "      <th>75%</th>\n",
       "      <th>max</th>\n",
       "    </tr>\n",
       "    <tr>\n",
       "      <th>region</th>\n",
       "      <th></th>\n",
       "      <th></th>\n",
       "      <th></th>\n",
       "      <th></th>\n",
       "      <th></th>\n",
       "      <th></th>\n",
       "      <th></th>\n",
       "      <th></th>\n",
       "    </tr>\n",
       "  </thead>\n",
       "  <tbody>\n",
       "    <tr>\n",
       "      <th>1</th>\n",
       "      <td>15997.0</td>\n",
       "      <td>987.247609</td>\n",
       "      <td>482.333462</td>\n",
       "      <td>500.0</td>\n",
       "      <td>500.0</td>\n",
       "      <td>1000.0</td>\n",
       "      <td>1000.0</td>\n",
       "      <td>2000.0</td>\n",
       "    </tr>\n",
       "    <tr>\n",
       "      <th>2</th>\n",
       "      <td>19994.0</td>\n",
       "      <td>500.000000</td>\n",
       "      <td>0.000000</td>\n",
       "      <td>500.0</td>\n",
       "      <td>500.0</td>\n",
       "      <td>500.0</td>\n",
       "      <td>500.0</td>\n",
       "      <td>500.0</td>\n",
       "    </tr>\n",
       "    <tr>\n",
       "      <th>3</th>\n",
       "      <td>18000.0</td>\n",
       "      <td>1157.944444</td>\n",
       "      <td>746.660024</td>\n",
       "      <td>500.0</td>\n",
       "      <td>500.0</td>\n",
       "      <td>1000.0</td>\n",
       "      <td>1500.0</td>\n",
       "      <td>3000.0</td>\n",
       "    </tr>\n",
       "    <tr>\n",
       "      <th>4</th>\n",
       "      <td>25988.0</td>\n",
       "      <td>1527.435740</td>\n",
       "      <td>750.762835</td>\n",
       "      <td>500.0</td>\n",
       "      <td>1000.0</td>\n",
       "      <td>1500.0</td>\n",
       "      <td>2000.0</td>\n",
       "      <td>3000.0</td>\n",
       "    </tr>\n",
       "  </tbody>\n",
       "</table>\n",
       "</div>"
      ],
      "text/plain": [
       "          count         mean         std    min     25%     50%     75%  \\\n",
       "region                                                                    \n",
       "1       15997.0   987.247609  482.333462  500.0   500.0  1000.0  1000.0   \n",
       "2       19994.0   500.000000    0.000000  500.0   500.0   500.0   500.0   \n",
       "3       18000.0  1157.944444  746.660024  500.0   500.0  1000.0  1500.0   \n",
       "4       25988.0  1527.435740  750.762835  500.0  1000.0  1500.0  2000.0   \n",
       "\n",
       "           max  \n",
       "region          \n",
       "1       2000.0  \n",
       "2        500.0  \n",
       "3       3000.0  \n",
       "4       3000.0  "
      ]
     },
     "execution_count": 37,
     "metadata": {},
     "output_type": "execute_result"
    }
   ],
   "source": [
    "data.groupby('region')['amount_bins'].describe()"
   ]
  },
  {
   "cell_type": "markdown",
   "id": "15dce048",
   "metadata": {},
   "source": [
    "Regions 1 and 3 are similar, 2 and 4 more distinct. How to make columns where they are more distinct more important?"
   ]
  },
  {
   "cell_type": "code",
   "execution_count": 64,
   "id": "e13a0681",
   "metadata": {},
   "outputs": [
    {
     "data": {
      "text/html": [
       "<div>\n",
       "<style scoped>\n",
       "    .dataframe tbody tr th:only-of-type {\n",
       "        vertical-align: middle;\n",
       "    }\n",
       "\n",
       "    .dataframe tbody tr th {\n",
       "        vertical-align: top;\n",
       "    }\n",
       "\n",
       "    .dataframe thead th {\n",
       "        text-align: right;\n",
       "    }\n",
       "</style>\n",
       "<table border=\"1\" class=\"dataframe\">\n",
       "  <thead>\n",
       "    <tr style=\"text-align: right;\">\n",
       "      <th></th>\n",
       "      <th>in-store</th>\n",
       "      <th>decade</th>\n",
       "      <th>amount_bins</th>\n",
       "    </tr>\n",
       "  </thead>\n",
       "  <tbody>\n",
       "    <tr>\n",
       "      <th>0</th>\n",
       "      <td>0</td>\n",
       "      <td>30.0</td>\n",
       "      <td>500.0</td>\n",
       "    </tr>\n",
       "    <tr>\n",
       "      <th>1</th>\n",
       "      <td>0</td>\n",
       "      <td>30.0</td>\n",
       "      <td>500.0</td>\n",
       "    </tr>\n",
       "    <tr>\n",
       "      <th>2</th>\n",
       "      <td>1</td>\n",
       "      <td>40.0</td>\n",
       "      <td>2000.0</td>\n",
       "    </tr>\n",
       "    <tr>\n",
       "      <th>3</th>\n",
       "      <td>1</td>\n",
       "      <td>40.0</td>\n",
       "      <td>1000.0</td>\n",
       "    </tr>\n",
       "    <tr>\n",
       "      <th>4</th>\n",
       "      <td>1</td>\n",
       "      <td>30.0</td>\n",
       "      <td>2000.0</td>\n",
       "    </tr>\n",
       "  </tbody>\n",
       "</table>\n",
       "</div>"
      ],
      "text/plain": [
       "   in-store  decade  amount_bins\n",
       "0         0    30.0        500.0\n",
       "1         0    30.0        500.0\n",
       "2         1    40.0       2000.0\n",
       "3         1    40.0       1000.0\n",
       "4         1    30.0       2000.0"
      ]
     },
     "execution_count": 64,
     "metadata": {},
     "output_type": "execute_result"
    }
   ],
   "source": [
    "X = data.iloc[:,~data.columns.isin(['region','items','age','amount'])]\n",
    "y = data['region']\n",
    "X.head()"
   ]
  },
  {
   "cell_type": "code",
   "execution_count": 39,
   "id": "466024ad",
   "metadata": {},
   "outputs": [
    {
     "name": "stdout",
     "output_type": "stream",
     "text": [
      "              precision    recall  f1-score   support\n",
      "\n",
      "           1       0.41      0.61      0.49      4791\n",
      "           2       0.88      1.00      0.94      6036\n",
      "           3       0.52      0.16      0.24      5334\n",
      "           4       0.66      0.70      0.68      7833\n",
      "\n",
      "    accuracy                           0.64     23994\n",
      "   macro avg       0.62      0.62      0.59     23994\n",
      "weighted avg       0.63      0.64      0.61     23994\n",
      "\n"
     ]
    }
   ],
   "source": [
    "X_train, X_test, y_train, y_test = train_test_split(X, y, test_size = .30, random_state = 500)\n",
    "algo = DecisionTreeClassifier(max_depth=4, class_weight='balanced')\n",
    "model = algo.fit(X_train,y_train)\n",
    "preds = model.predict(X_test)\n",
    "print(classification_report(y_test, preds))"
   ]
  },
  {
   "cell_type": "code",
   "execution_count": 40,
   "id": "10aee1da",
   "metadata": {},
   "outputs": [
    {
     "name": "stdout",
     "output_type": "stream",
     "text": [
      "              precision    recall  f1-score   support\n",
      "\n",
      "           1       0.41      0.61      0.49      4791\n",
      "           2       0.88      1.00      0.94      6036\n",
      "           3       0.52      0.16      0.24      5334\n",
      "           4       0.66      0.70      0.68      7833\n",
      "\n",
      "    accuracy                           0.64     23994\n",
      "   macro avg       0.62      0.62      0.59     23994\n",
      "weighted avg       0.63      0.64      0.61     23994\n",
      "\n"
     ]
    }
   ],
   "source": [
    "X_train, X_test, y_train, y_test = train_test_split(X, y, test_size = .30, random_state = 500)\n",
    "algo = DecisionTreeClassifier(max_depth=4, class_weight='balanced')\n",
    "model = algo.fit(X_train,y_train)\n",
    "preds = model.predict(X_test)\n",
    "print(classification_report(y_test, preds))"
   ]
  },
  {
   "cell_type": "code",
   "execution_count": 41,
   "id": "24eb24bc",
   "metadata": {},
   "outputs": [
    {
     "data": {
      "image/png": "[encoded data removed]",
      "text/plain": [
       "<Figure size 2160x720 with 1 Axes>"
      ]
     },
     "metadata": {},
     "output_type": "display_data"
    }
   ],
   "source": [
    "from sklearn.tree import plot_tree\n",
    "\n",
    "fig = plt.figure(figsize=(30,10))\n",
    "tree = plot_tree(model, feature_names=X.columns,class_names=['0', '1', '2', '3'], filled=True, fontsize=12)"
   ]
  },
  {
   "cell_type": "code",
   "execution_count": 65,
   "id": "ff14dbab",
   "metadata": {},
   "outputs": [
    {
     "name": "stdout",
     "output_type": "stream",
     "text": [
      "              precision    recall  f1-score   support\n",
      "\n",
      "           1       0.41      0.61      0.49      4791\n",
      "           2       0.88      1.00      0.94      6036\n",
      "           3       0.52      0.16      0.24      5334\n",
      "           4       0.66      0.70      0.68      7833\n",
      "\n",
      "    accuracy                           0.64     23994\n",
      "   macro avg       0.62      0.62      0.59     23994\n",
      "weighted avg       0.63      0.64      0.61     23994\n",
      "\n"
     ]
    }
   ],
   "source": [
    "X_train, X_test, y_train, y_test = train_test_split(X, y, test_size = .30, random_state = 500)\n",
    "algo = DecisionTreeClassifier(max_depth=4, class_weight='balanced')\n",
    "model = algo.fit(X_train,y_train)\n",
    "preds = model.predict(X_test)\n",
    "print(classification_report(y_test, preds))"
   ]
  },
  {
   "cell_type": "code",
   "execution_count": 43,
   "id": "6acf6c02",
   "metadata": {},
   "outputs": [
    {
     "name": "stdout",
     "output_type": "stream",
     "text": [
      "[0.63734684 0.63509627 0.63303326 0.63903476 0.64045014]\n"
     ]
    }
   ],
   "source": [
    "#adding in cross validation score\n",
    "model = DecisionTreeClassifier()\n",
    "print(cross_val_score(model, X, y, cv=5)) "
   ]
  },
  {
   "cell_type": "code",
   "execution_count": 44,
   "id": "7d7c02a8",
   "metadata": {},
   "outputs": [],
   "source": [
    "algos_class = []\n",
    "algos_class.append(('Random Forest Classifier', RandomForestClassifier()))\n",
    "algos_class.append(('Decision Tree Classifier', DecisionTreeClassifier()))\n",
    "algos_class.append(('Gradient Boosting Classifier', GradientBoostingClassifier()))"
   ]
  },
  {
   "cell_type": "code",
   "execution_count": 45,
   "id": "742a615b",
   "metadata": {},
   "outputs": [],
   "source": [
    "results = []\n",
    "names = []\n",
    "for name, model in algos_class:\n",
    "    result = cross_val_score(model, X, y, cv=3, scoring='accuracy')\n",
    "    names.append(name)\n",
    "    results.append(result)"
   ]
  },
  {
   "cell_type": "code",
   "execution_count": 46,
   "id": "4bcfc5b6",
   "metadata": {},
   "outputs": [
    {
     "name": "stdout",
     "output_type": "stream",
     "text": [
      "Random Forest Classifier 0.636242025452535\n",
      "Decision Tree Classifier 0.636242025452535\n",
      "Gradient Boosting Classifier 0.6353292649093478\n"
     ]
    }
   ],
   "source": [
    "for i in range(len(names)):\n",
    "    print(names[i],results[i].mean())"
   ]
  },
  {
   "cell_type": "code",
   "execution_count": 47,
   "id": "166fd317",
   "metadata": {},
   "outputs": [
    {
     "data": {
      "text/html": [
       "<div>\n",
       "<style scoped>\n",
       "    .dataframe tbody tr th:only-of-type {\n",
       "        vertical-align: middle;\n",
       "    }\n",
       "\n",
       "    .dataframe tbody tr th {\n",
       "        vertical-align: top;\n",
       "    }\n",
       "\n",
       "    .dataframe thead th {\n",
       "        text-align: right;\n",
       "    }\n",
       "</style>\n",
       "<table border=\"1\" class=\"dataframe\">\n",
       "  <thead>\n",
       "    <tr style=\"text-align: right;\">\n",
       "      <th></th>\n",
       "      <th>items</th>\n",
       "      <th>region</th>\n",
       "      <th>decade</th>\n",
       "      <th>amount_bins</th>\n",
       "    </tr>\n",
       "  </thead>\n",
       "  <tbody>\n",
       "    <tr>\n",
       "      <th>0</th>\n",
       "      <td>4</td>\n",
       "      <td>2</td>\n",
       "      <td>30.0</td>\n",
       "      <td>500.0</td>\n",
       "    </tr>\n",
       "    <tr>\n",
       "      <th>1</th>\n",
       "      <td>2</td>\n",
       "      <td>2</td>\n",
       "      <td>30.0</td>\n",
       "      <td>500.0</td>\n",
       "    </tr>\n",
       "    <tr>\n",
       "      <th>2</th>\n",
       "      <td>3</td>\n",
       "      <td>4</td>\n",
       "      <td>40.0</td>\n",
       "      <td>2000.0</td>\n",
       "    </tr>\n",
       "    <tr>\n",
       "      <th>3</th>\n",
       "      <td>3</td>\n",
       "      <td>3</td>\n",
       "      <td>40.0</td>\n",
       "      <td>1000.0</td>\n",
       "    </tr>\n",
       "    <tr>\n",
       "      <th>4</th>\n",
       "      <td>4</td>\n",
       "      <td>1</td>\n",
       "      <td>30.0</td>\n",
       "      <td>2000.0</td>\n",
       "    </tr>\n",
       "  </tbody>\n",
       "</table>\n",
       "</div>"
      ],
      "text/plain": [
       "   items  region  decade  amount_bins\n",
       "0      4       2    30.0        500.0\n",
       "1      2       2    30.0        500.0\n",
       "2      3       4    40.0       2000.0\n",
       "3      3       3    40.0       1000.0\n",
       "4      4       1    30.0       2000.0"
      ]
     },
     "execution_count": 47,
     "metadata": {},
     "output_type": "execute_result"
    }
   ],
   "source": [
    "X = data.iloc[:,~data.columns.isin(['age','amount','in-store'])]\n",
    "y = data['in-store']\n",
    "X.head()"
   ]
  },
  {
   "cell_type": "code",
   "execution_count": 53,
   "id": "3085d532",
   "metadata": {},
   "outputs": [
    {
     "name": "stdout",
     "output_type": "stream",
     "text": [
      "              precision    recall  f1-score   support\n",
      "\n",
      "           0       1.00      0.67      0.80     12055\n",
      "           1       0.75      1.00      0.86     11939\n",
      "\n",
      "    accuracy                           0.83     23994\n",
      "   macro avg       0.87      0.83      0.83     23994\n",
      "weighted avg       0.88      0.83      0.83     23994\n",
      "\n"
     ]
    }
   ],
   "source": [
    "X_train, X_test, y_train, y_test = train_test_split(X, y, test_size = .30, random_state = 500)\n",
    "algo = DecisionTreeClassifier(max_depth=3, class_weight='balanced')\n",
    "model = algo.fit(X_train,y_train)\n",
    "preds = model.predict(X_test)\n",
    "print(classification_report(y_test, preds))"
   ]
  },
  {
   "cell_type": "code",
   "execution_count": 55,
   "id": "8f989ef9",
   "metadata": {},
   "outputs": [
    {
     "data": {
      "image/png": "[encoded data removed]",
      "text/plain": [
       "<Figure size 720x720 with 1 Axes>"
      ]
     },
     "metadata": {},
     "output_type": "display_data"
    }
   ],
   "source": [
    "fig = plt.figure(figsize=(10,10))\n",
    "tree = plot_tree(model, feature_names=X.columns,class_names=['0', '1', '2', '3'], filled=True, fontsize=12)"
   ]
  },
  {
   "cell_type": "code",
   "execution_count": 56,
   "id": "1e091c53",
   "metadata": {},
   "outputs": [
    {
     "name": "stdout",
     "output_type": "stream",
     "text": [
      "[0.87728182 0.87371843 0.87584396 0.87490623 0.87714911]\n"
     ]
    }
   ],
   "source": [
    "#adding in cross validation score\n",
    "model = DecisionTreeClassifier()\n",
    "print(cross_val_score(model, X, y, cv=5)) "
   ]
  },
  {
   "cell_type": "code",
   "execution_count": 57,
   "id": "10f78c98",
   "metadata": {},
   "outputs": [],
   "source": [
    "algos_class = []\n",
    "algos_class.append(('Random Forest Classifier', RandomForestClassifier()))\n",
    "algos_class.append(('Decision Tree Classifier', DecisionTreeClassifier()))\n",
    "algos_class.append(('Gradient Boosting Classifier', GradientBoostingClassifier()))"
   ]
  },
  {
   "cell_type": "code",
   "execution_count": 58,
   "id": "7ed7f2b5",
   "metadata": {},
   "outputs": [],
   "source": [
    "results = []\n",
    "names = []\n",
    "for name, model in algos_class:\n",
    "    result = cross_val_score(model, X, y, cv=3, scoring='accuracy')\n",
    "    names.append(name)\n",
    "    results.append(result)"
   ]
  },
  {
   "cell_type": "code",
   "execution_count": 59,
   "id": "354df13c",
   "metadata": {},
   "outputs": [
    {
     "name": "stdout",
     "output_type": "stream",
     "text": [
      "Random Forest Classifier 0.8756298470131244\n",
      "Decision Tree Classifier 0.8757423845251985\n",
      "Gradient Boosting Classifier 0.8752797566772315\n"
     ]
    }
   ],
   "source": [
    "for i in range(len(names)):\n",
    "    print(names[i],results[i].mean())"
   ]
  },
  {
   "cell_type": "code",
   "execution_count": null,
   "id": "1a27aa84",
   "metadata": {},
   "outputs": [],
   "source": []
  }
 ],
 "metadata": {
  "kernelspec": {
   "display_name": "Python 3 (ipykernel)",
   "language": "python",
   "name": "python3"
  },
  "language_info": {
   "codemirror_mode": {
    "name": "ipython",
    "version": 3
   },
   "file_extension": ".py",
   "mimetype": "text/x-python",
   "name": "python",
   "nbconvert_exporter": "python",
   "pygments_lexer": "ipython3",
   "version": "3.10.4"
  }
 },
 "nbformat": 4,
 "nbformat_minor": 5
}

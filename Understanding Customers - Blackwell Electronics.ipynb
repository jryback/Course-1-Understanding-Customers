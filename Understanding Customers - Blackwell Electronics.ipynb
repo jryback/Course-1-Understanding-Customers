{
 "cells": [
  {
   "cell_type": "markdown",
   "id": "73bb25e1",
   "metadata": {},
   "source": [
    "# Understanding Blackwell's Customers\n",
    "\n",
    "The fictitious electronics store Blackwell Electronics wanted to know how the demographics of their customers affected how much money they spent in each transaction. They also wanted to know which demographics had strong correlations with one another. They asked specifically about the correlation between age and region, and age and whether a customer made an online or in-store purchase.\n",
    "\n",
    "## The Data\n",
    "\n",
    "The data included the following demographic information for each transaction:\n",
    "* age\n",
    "* number of items bought\n",
    "* the amount they spent\n",
    "* the region the transaction took place in\n",
    "* whether the purchase took place in store or online\n",
    "\n",
    "I'll start by importing all the necessary packages and loading the data."
   ]
  },
  {
   "cell_type": "code",
   "execution_count": 1,
   "id": "0f7c2819",
   "metadata": {},
   "outputs": [
    {
     "name": "stderr",
     "output_type": "stream",
     "text": [
      "D:\\Users\\jryba\\anaconda3\\envs\\DataAnalyticsCourse\\lib\\site-packages\\scipy\\__init__.py:146: UserWarning: A NumPy version >=1.16.5 and <1.23.0 is required for this version of SciPy (detected version 1.23.1\n",
      "  warnings.warn(f\"A NumPy version >={np_minversion} and <{np_maxversion}\"\n"
     ]
    }
   ],
   "source": [
    "#Importing important programs\n",
    "import numpy as np\n",
    "import pandas as pd\n",
    "import matplotlib as mpl\n",
    "import matplotlib.pyplot as plt\n",
    "import seaborn as sns\n",
    "from ipywidgets import interactive\n",
    "\n",
    "#Classification algorithms\n",
    "from sklearn.ensemble import RandomForestClassifier, GradientBoostingClassifier\n",
    "from sklearn.model_selection import train_test_split\n",
    "from sklearn.tree import DecisionTreeClassifier\n",
    "from sklearn.tree import plot_tree\n",
    "from sklearn import metrics\n",
    "from sklearn.metrics import accuracy_score, classification_report\n",
    "from sklearn.model_selection import cross_val_score\n",
    "\n",
    "#Regression algorithms\n",
    "from sklearn.ensemble import RandomForestRegressor\n",
    "from sklearn.linear_model import LinearRegression\n",
    "from sklearn.svm import SVR\n",
    "from sklearn import linear_model\n",
    "from sklearn.metrics import mean_squared_error\n",
    "from sklearn.metrics import r2_score"
   ]
  },
  {
   "cell_type": "code",
   "execution_count": 2,
   "id": "2a347d65",
   "metadata": {},
   "outputs": [
    {
     "data": {
      "text/html": [
       "<div>\n",
       "<style scoped>\n",
       "    .dataframe tbody tr th:only-of-type {\n",
       "        vertical-align: middle;\n",
       "    }\n",
       "\n",
       "    .dataframe tbody tr th {\n",
       "        vertical-align: top;\n",
       "    }\n",
       "\n",
       "    .dataframe thead th {\n",
       "        text-align: right;\n",
       "    }\n",
       "</style>\n",
       "<table border=\"1\" class=\"dataframe\">\n",
       "  <thead>\n",
       "    <tr style=\"text-align: right;\">\n",
       "      <th></th>\n",
       "      <th>in-store</th>\n",
       "      <th>age</th>\n",
       "      <th>items</th>\n",
       "      <th>amount</th>\n",
       "      <th>region</th>\n",
       "      <th>decade</th>\n",
       "      <th>amount_bins</th>\n",
       "    </tr>\n",
       "  </thead>\n",
       "  <tbody>\n",
       "    <tr>\n",
       "      <th>count</th>\n",
       "      <td>79979.000000</td>\n",
       "      <td>79979.000000</td>\n",
       "      <td>79979.000000</td>\n",
       "      <td>79979.000000</td>\n",
       "      <td>79979.000000</td>\n",
       "      <td>79979.000000</td>\n",
       "      <td>79979.000000</td>\n",
       "    </tr>\n",
       "    <tr>\n",
       "      <th>mean</th>\n",
       "      <td>0.500006</td>\n",
       "      <td>45.758512</td>\n",
       "      <td>4.505133</td>\n",
       "      <td>835.825727</td>\n",
       "      <td>2.674915</td>\n",
       "      <td>40.312082</td>\n",
       "      <td>1079.383338</td>\n",
       "    </tr>\n",
       "    <tr>\n",
       "      <th>std</th>\n",
       "      <td>0.500003</td>\n",
       "      <td>15.715158</td>\n",
       "      <td>2.061250</td>\n",
       "      <td>721.263650</td>\n",
       "      <td>1.126642</td>\n",
       "      <td>16.118594</td>\n",
       "      <td>712.303986</td>\n",
       "    </tr>\n",
       "    <tr>\n",
       "      <th>min</th>\n",
       "      <td>0.000000</td>\n",
       "      <td>18.000000</td>\n",
       "      <td>1.000000</td>\n",
       "      <td>5.004700</td>\n",
       "      <td>1.000000</td>\n",
       "      <td>10.000000</td>\n",
       "      <td>500.000000</td>\n",
       "    </tr>\n",
       "    <tr>\n",
       "      <th>25%</th>\n",
       "      <td>0.000000</td>\n",
       "      <td>33.000000</td>\n",
       "      <td>3.000000</td>\n",
       "      <td>285.120000</td>\n",
       "      <td>2.000000</td>\n",
       "      <td>30.000000</td>\n",
       "      <td>500.000000</td>\n",
       "    </tr>\n",
       "    <tr>\n",
       "      <th>50%</th>\n",
       "      <td>1.000000</td>\n",
       "      <td>45.000000</td>\n",
       "      <td>4.000000</td>\n",
       "      <td>582.140000</td>\n",
       "      <td>3.000000</td>\n",
       "      <td>40.000000</td>\n",
       "      <td>1000.000000</td>\n",
       "    </tr>\n",
       "    <tr>\n",
       "      <th>75%</th>\n",
       "      <td>1.000000</td>\n",
       "      <td>56.000000</td>\n",
       "      <td>6.000000</td>\n",
       "      <td>1233.400000</td>\n",
       "      <td>4.000000</td>\n",
       "      <td>50.000000</td>\n",
       "      <td>1500.000000</td>\n",
       "    </tr>\n",
       "    <tr>\n",
       "      <th>max</th>\n",
       "      <td>1.000000</td>\n",
       "      <td>85.000000</td>\n",
       "      <td>8.000000</td>\n",
       "      <td>3000.000000</td>\n",
       "      <td>4.000000</td>\n",
       "      <td>80.000000</td>\n",
       "      <td>3000.000000</td>\n",
       "    </tr>\n",
       "  </tbody>\n",
       "</table>\n",
       "</div>"
      ],
      "text/plain": [
       "           in-store           age         items        amount        region  \\\n",
       "count  79979.000000  79979.000000  79979.000000  79979.000000  79979.000000   \n",
       "mean       0.500006     45.758512      4.505133    835.825727      2.674915   \n",
       "std        0.500003     15.715158      2.061250    721.263650      1.126642   \n",
       "min        0.000000     18.000000      1.000000      5.004700      1.000000   \n",
       "25%        0.000000     33.000000      3.000000    285.120000      2.000000   \n",
       "50%        1.000000     45.000000      4.000000    582.140000      3.000000   \n",
       "75%        1.000000     56.000000      6.000000   1233.400000      4.000000   \n",
       "max        1.000000     85.000000      8.000000   3000.000000      4.000000   \n",
       "\n",
       "             decade   amount_bins  \n",
       "count  79979.000000  79979.000000  \n",
       "mean      40.312082   1079.383338  \n",
       "std       16.118594    712.303986  \n",
       "min       10.000000    500.000000  \n",
       "25%       30.000000    500.000000  \n",
       "50%       40.000000   1000.000000  \n",
       "75%       50.000000   1500.000000  \n",
       "max       80.000000   3000.000000  "
      ]
     },
     "execution_count": 2,
     "metadata": {},
     "output_type": "execute_result"
    }
   ],
   "source": [
    "#loading the data\n",
    "data = pd.read_csv('Demographic_Data2.csv')\n",
    "data = data.drop(columns='Unnamed: 0')\n",
    "data.describe()"
   ]
  },
  {
   "cell_type": "markdown",
   "id": "5c75e700",
   "metadata": {},
   "source": [
    "After cleaning, the data has just under 80,000 transactions. I opted to exclude any duplicate rows or rows that have missing information instead of replacing the null values. \n",
    "\n",
    "To make the machine learning algorithms more streamlined, I converted all the non-numeric values to numeric. I also added a column of ages sorted into bins by decade and a column with the amounts sorted by increments of 500 dollars.  This will help a classification algorithm when determining the customers' ages and amounts spent. With fewer options to choose from, the algorithm will be much more accurate."
   ]
  },
  {
   "cell_type": "markdown",
   "id": "290d02dc",
   "metadata": {},
   "source": [
    "## Exploratory Analysis\n",
    "\n",
    "I'm comparing the correlations between the variables. This is to check if there is anything of business value for Blackwell and to give me an idea of where to start for the machine learning algorithms."
   ]
  },
  {
   "cell_type": "code",
   "execution_count": 3,
   "id": "ace1591e",
   "metadata": {},
   "outputs": [
    {
     "data": {
      "text/plain": [
       "<AxesSubplot:>"
      ]
     },
     "execution_count": 3,
     "metadata": {},
     "output_type": "execute_result"
    },
    {
     "data": {
      "image/png": "[encoded data removed]",
      "text/plain": [
       "<Figure size 432x288 with 2 Axes>"
      ]
     },
     "metadata": {
      "needs_background": "light"
     },
     "output_type": "display_data"
    }
   ],
   "source": [
    "corr_mat = data.corr()\n",
    "sns.heatmap(corr_mat, xticklabels=corr_mat.columns, yticklabels=corr_mat.columns, annot=True)"
   ]
  },
  {
   "cell_type": "markdown",
   "id": "cea07b27",
   "metadata": {},
   "source": [
    "The heatmap shows that the region and amount columns have a correlation of 40%. The other correlations are pretty low. while this is not promising for the questions that Blackwell's staff have asked, it does not mean that an algorithm cannot predict them."
   ]
  },
  {
   "cell_type": "code",
   "execution_count": 5,
   "id": "22b7c1d9",
   "metadata": {},
   "outputs": [
    {
     "name": "stderr",
     "output_type": "stream",
     "text": [
      "C:\\Users\\jryba\\AppData\\Local\\Temp\\ipykernel_49320\\613817383.py:4: UserWarning: FixedFormatter should only be used together with FixedLocator\n",
      "  ax.set_xticklabels(xlabels)\n"
     ]
    },
    {
     "data": {
      "text/plain": [
       "Text(0, 0.5, 'Region')"
      ]
     },
     "execution_count": 5,
     "metadata": {},
     "output_type": "execute_result"
    },
    {
     "data": {
      "image/png": "[encoded data removed]",
      "text/plain": [
       "<Figure size 432x288 with 1 Axes>"
      ]
     },
     "metadata": {
      "needs_background": "light"
     },
     "output_type": "display_data"
    }
   ],
   "source": [
    "ax = sns.barplot(data=data, x='amount', y='region', palette='summer', \n",
    "                 estimator=sum, orient='h')\n",
    "xlabels = ['{:,.2f}'.format(x) + 'M' for x in ax.get_xticks()/1000000]\n",
    "ax.set_xticklabels(xlabels)\n",
    "plt.title(\"Total Sales by Region\", y=1.02, fontsize=22)\n",
    "plt.yticks([0,1,2,3,4],['North','South','East','West',''])\n",
    "plt.xlabel(\"Amount Spent [$]\", labelpad=16, fontsize=16)\n",
    "plt.ylabel(\"Region\", labelpad=16, fontsize=16)"
   ]
  },
  {
   "cell_type": "markdown",
   "id": "43330bef",
   "metadata": {},
   "source": [
    "This graph shows the total amount earned before taxes and other deductions, sorted by region. The West has the highest spending by far, and the South the least. I would recommend to Blackwell to implement marketing in the North, South, and East regions to increase sales."
   ]
  },
  {
   "cell_type": "code",
   "execution_count": 6,
   "id": "0ca30d7e",
   "metadata": {
    "scrolled": true
   },
   "outputs": [
    {
     "data": {
      "text/plain": [
       "Text(0, 0.5, 'Region')"
      ]
     },
     "execution_count": 6,
     "metadata": {},
     "output_type": "execute_result"
    },
    {
     "data": {
      "image/png": "[encoded data removed]",
      "text/plain": [
       "<Figure size 432x288 with 1 Axes>"
      ]
     },
     "metadata": {
      "needs_background": "light"
     },
     "output_type": "display_data"
    }
   ],
   "source": [
    "#Visualize the ranges for each region, separating the in-store and online data\n",
    "ax = sns.boxplot(x=\"amount\", y=\"region\", hue='in-store', data=data, orient='h',\n",
    "                 palette='summer')\n",
    "plt.title(\"Amount spent by Region: In-store vs. Online\", y=1.02, fontsize=22)\n",
    "plt.legend(['In-Store','Online'])\n",
    "plt.yticks([0,1,2,3,4],['North','South','East','West',''])\n",
    "plt.xlabel(\"Amount Spent [$]\", labelpad=16)\n",
    "plt.ylabel(\"Region\", labelpad=16)"
   ]
  },
  {
   "cell_type": "markdown",
   "id": "58a47ac6",
   "metadata": {},
   "source": [
    "As shown in the graph above, there is an immediate concern with the sales in the north and south regions. In the North, there are no in-store purchases, while no online purchases took place in the South. There is either some data missing or these are potential avenues Blackwell could take to improve sales. Either way, this will make it easier for an algorithm to determine whether a purchase was made in-store."
   ]
  },
  {
   "cell_type": "code",
   "execution_count": 7,
   "id": "982c3fab",
   "metadata": {},
   "outputs": [
    {
     "data": {
      "text/plain": [
       "Text(0, 0.5, 'Region')"
      ]
     },
     "execution_count": 7,
     "metadata": {},
     "output_type": "execute_result"
    },
    {
     "data": {
      "image/png": "[encoded data removed]",
      "text/plain": [
       "<Figure size 432x288 with 1 Axes>"
      ]
     },
     "metadata": {
      "needs_background": "light"
     },
     "output_type": "display_data"
    }
   ],
   "source": [
    "#Plot the items purchased vs amount spent\n",
    "ax = sns.boxplot(x=\"amount\", y=\"items\", orient='h', data=data, palette=\"summer\")\n",
    "plt.title(\"Amount Spent per Number of Items Purchased\", y=1.02, fontsize=22)\n",
    "plt.xlabel(\"Amount Spent [$]\", labelpad=16, fontsize=16)\n",
    "plt.ylabel(\"Region\", labelpad=16, fontsize=16)"
   ]
  },
  {
   "cell_type": "markdown",
   "id": "3df42ed1",
   "metadata": {},
   "source": [
    "The average customer is only willing to spend around $550 no matter how many items they bought. They are more concerned about the money spent than the number of items. If Blackwell wants to get more products off the shelf, they should offer more sales such as buy one get one free."
   ]
  },
  {
   "cell_type": "markdown",
   "id": "52b44554",
   "metadata": {},
   "source": [
    "## Machine Learning\n",
    "\n",
    "### Predicting Amount\n",
    "\n",
    "Testing to see if I can predict the amount a customer spent using the other demographics. In order to get a more accurate algorithm, I sorted the amount values into bins of $500 and used a classification algorithm."
   ]
  },
  {
   "cell_type": "code",
   "execution_count": 8,
   "id": "7b0407df",
   "metadata": {},
   "outputs": [
    {
     "name": "stdout",
     "output_type": "stream",
     "text": [
      "Random Forest Classifier 0.4806886964060682\n",
      "Decision Tree Classifier 0.4803260841843118\n",
      "Gradient Boosting Classifier 0.486440176475718\n"
     ]
    }
   ],
   "source": [
    "X = data.iloc[:,~data.columns.isin(['amount','amount_bins'])]\n",
    "y = data['amount_bins']\n",
    "\n",
    "algos_class = []\n",
    "algos_class.append(('Random Forest Classifier', RandomForestClassifier()))\n",
    "algos_class.append(('Decision Tree Classifier', DecisionTreeClassifier()))\n",
    "algos_class.append(('Gradient Boosting Classifier', GradientBoostingClassifier()))\n",
    "\n",
    "results = []\n",
    "names = []\n",
    "for name, model in algos_class:\n",
    "    result = cross_val_score(model, X, y, cv=3, scoring='accuracy')\n",
    "    names.append(name)\n",
    "    results.append(result)\n",
    "\n",
    "for i in range(len(names)):\n",
    "    print(names[i],results[i].mean())"
   ]
  },
  {
   "cell_type": "code",
   "execution_count": 9,
   "id": "4fc3e16b",
   "metadata": {},
   "outputs": [
    {
     "name": "stdout",
     "output_type": "stream",
     "text": [
      "              precision    recall  f1-score   support\n",
      "\n",
      "       500.0       0.91      0.58      0.71     11014\n",
      "      1000.0       0.39      0.70      0.50      5819\n",
      "      1500.0       0.20      0.23      0.22      2560\n",
      "      2000.0       0.19      0.17      0.18      2592\n",
      "      2500.0       0.17      0.13      0.15      1002\n",
      "      3000.0       0.16      0.09      0.12      1007\n",
      "\n",
      "    accuracy                           0.49     23994\n",
      "   macro avg       0.34      0.32      0.31     23994\n",
      "weighted avg       0.57      0.49      0.50     23994\n",
      "\n"
     ]
    }
   ],
   "source": [
    "X_train, X_test, y_train, y_test = train_test_split(X, y, test_size = .30, random_state = 123)\n",
    "algo = GradientBoostingClassifier()\n",
    "model = algo.fit(X_train,y_train)\n",
    "preds = model.predict(X_test)\n",
    "print(classification_report(y_test, preds))"
   ]
  },
  {
   "cell_type": "code",
   "execution_count": 10,
   "id": "90be2c92",
   "metadata": {},
   "outputs": [
    {
     "name": "stdout",
     "output_type": "stream",
     "text": [
      "[0.48980995 0.48605901 0.48243311 0.48837209 0.48596436]\n"
     ]
    }
   ],
   "source": [
    "model = GradientBoostingClassifier()\n",
    "print(cross_val_score(model, X, y, cv=5)) "
   ]
  },
  {
   "cell_type": "markdown",
   "id": "2a1ffde8",
   "metadata": {},
   "source": [
    "The Gradient Boosting Classifier did the best out of the three. With the information available, the algorithm was only able to predict the amount spent 49% of the time, even with discretized bins. Less than a coin flip!\n",
    "\n",
    "#### Regression\n",
    "\n",
    "As this was my first crack at machine learning, I did not attempt a regression model at the time. However, coming back to it later I felt that the predictor for amount would be a good opportunity to use one."
   ]
  },
  {
   "cell_type": "code",
   "execution_count": 11,
   "id": "63280ebf",
   "metadata": {},
   "outputs": [
    {
     "name": "stdout",
     "output_type": "stream",
     "text": [
      "Random Forest Regressor 0.423003806841501\n",
      "Linear Regression 0.2051540744291657\n",
      "Support Vector Regression 0.010322147459722264\n"
     ]
    }
   ],
   "source": [
    "X = data.iloc[:,~data.columns.isin(['amount','amount_bins'])]\n",
    "y = data['amount']\n",
    "\n",
    "algosclass = []\n",
    "algosclass.append(('Random Forest Regressor',RandomForestRegressor()))\n",
    "algosclass.append(('Linear Regression',LinearRegression()))\n",
    "algosclass.append(('Support Vector Regression',SVR()))\n",
    "\n",
    "results = []\n",
    "names = []\n",
    "for name, model in algosclass:\n",
    "    result = cross_val_score(model, X,y, cv=3, scoring='r2')\n",
    "    names.append(name)\n",
    "    results.append(result)\n",
    "\n",
    "for i in range(len(names)):\n",
    "    print(names[i],results[i].mean())"
   ]
  },
  {
   "cell_type": "code",
   "execution_count": 12,
   "id": "0e3a2bed",
   "metadata": {},
   "outputs": [
    {
     "name": "stdout",
     "output_type": "stream",
     "text": [
      "Mean Absolute Error: 404.0340688875155\n",
      "r2 Score: 0.4249583785316925\n"
     ]
    }
   ],
   "source": [
    "X_train, X_test, y_train, y_test = train_test_split(X, y, test_size = .30, random_state = 123)\n",
    "algo = RandomForestRegressor(n_estimators=200)\n",
    "model = algo.fit(X_train,y_train)\n",
    "preds = model.predict(X_test)\n",
    "print('Mean Absolute Error:', metrics.mean_absolute_error(y_test, preds))\n",
    "print('r2 Score:', metrics.r2_score(y_test, preds))"
   ]
  },
  {
   "cell_type": "markdown",
   "id": "8bceba0b",
   "metadata": {},
   "source": [
    "The Random Forest Regressor was the best, and still only .436 r2 score.\n",
    "\n",
    "### Predicting Age\n",
    "\n",
    "Blackwell's staff asked me if we could predict the age of a customer, specifically using the region as an independent variable.\n",
    "\n",
    "Once again, in order to make a more accurate classification algorithm I sorted the age values into bins based on decade of life. "
   ]
  },
  {
   "cell_type": "code",
   "execution_count": 13,
   "id": "4391f8aa",
   "metadata": {},
   "outputs": [
    {
     "name": "stdout",
     "output_type": "stream",
     "text": [
      "Random Forest Classifier 0.19513871209465594\n",
      "Decision Tree Classifier 0.19561381211426868\n",
      "Gradient Boosting Classifier 0.22039535212960373\n"
     ]
    }
   ],
   "source": [
    "X = data.iloc[:,~data.columns.isin(['age','decade'])]\n",
    "y = data['decade']\n",
    "\n",
    "algos_class = []\n",
    "algos_class.append(('Random Forest Classifier', RandomForestClassifier()))\n",
    "algos_class.append(('Decision Tree Classifier', DecisionTreeClassifier()))\n",
    "algos_class.append(('Gradient Boosting Classifier', GradientBoostingClassifier()))\n",
    "\n",
    "results = []\n",
    "names = []\n",
    "for name, model in algos_class:\n",
    "    result = cross_val_score(model, X, y, cv=3, scoring='accuracy')\n",
    "    names.append(name)\n",
    "    results.append(result)\n",
    "\n",
    "for i in range(len(names)):\n",
    "    print(names[i],results[i].mean())"
   ]
  },
  {
   "cell_type": "code",
   "execution_count": 14,
   "id": "27a6d487",
   "metadata": {},
   "outputs": [
    {
     "name": "stdout",
     "output_type": "stream",
     "text": [
      "              precision    recall  f1-score   support\n",
      "\n",
      "        10.0       0.07      0.00      0.00       628\n",
      "        20.0       0.24      0.33      0.28      3961\n",
      "        30.0       0.21      0.27      0.24      5235\n",
      "        40.0       0.22      0.31      0.26      5326\n",
      "        50.0       0.21      0.16      0.18      4283\n",
      "        60.0       0.17      0.04      0.07      2598\n",
      "        70.0       0.18      0.09      0.12      1439\n",
      "        80.0       0.07      0.00      0.01       524\n",
      "\n",
      "    accuracy                           0.22     23994\n",
      "   macro avg       0.17      0.15      0.15     23994\n",
      "weighted avg       0.21      0.22      0.20     23994\n",
      "\n"
     ]
    }
   ],
   "source": [
    "X_train, X_test, y_train, y_test = train_test_split(X, y, test_size = .30, random_state = 123)\n",
    "algo = GradientBoostingClassifier()\n",
    "model = algo.fit(X_train,y_train)\n",
    "preds = model.predict(X_test)\n",
    "print(classification_report(y_test, preds))"
   ]
  },
  {
   "cell_type": "code",
   "execution_count": 15,
   "id": "7900354c",
   "metadata": {},
   "outputs": [
    {
     "name": "stdout",
     "output_type": "stream",
     "text": [
      "[0.21780445 0.21649162 0.217992   0.21780445 0.22056893]\n"
     ]
    }
   ],
   "source": [
    "model = GradientBoostingClassifier()\n",
    "print(cross_val_score(model, X, y, cv=5)) "
   ]
  },
  {
   "cell_type": "markdown",
   "id": "19dab6b8",
   "metadata": {},
   "source": [
    "Even with the Gradient Boosting Classifier, it was only able to predict the age with a 22% accuracy.\n",
    "\n",
    "### Predicting Region\n",
    "\n",
    "The region category is already separated into just four possible answers, a classification algorithm may be able to predict it with some accuracy."
   ]
  },
  {
   "cell_type": "code",
   "execution_count": 16,
   "id": "d05bb4bd",
   "metadata": {},
   "outputs": [
    {
     "name": "stdout",
     "output_type": "stream",
     "text": [
      "Random Forest Classifier 0.5807023800100218\n",
      "Decision Tree Classifier 0.5622975814098692\n",
      "Gradient Boosting Classifier 0.643281380474906\n"
     ]
    }
   ],
   "source": [
    "X = data.iloc[:,~data.columns.isin(['region'])]\n",
    "y = data['region']\n",
    "\n",
    "algos_class = []\n",
    "algos_class.append(('Random Forest Classifier', RandomForestClassifier()))\n",
    "algos_class.append(('Decision Tree Classifier', DecisionTreeClassifier()))\n",
    "algos_class.append(('Gradient Boosting Classifier', GradientBoostingClassifier()))\n",
    "\n",
    "results = []\n",
    "names = []\n",
    "for name, model in algos_class:\n",
    "    result = cross_val_score(model, X, y, cv=3, scoring='accuracy')\n",
    "    names.append(name)\n",
    "    results.append(result)\n",
    "    \n",
    "for i in range(len(names)):\n",
    "    print(names[i],results[i].mean())"
   ]
  },
  {
   "cell_type": "code",
   "execution_count": 17,
   "id": "8efbd18b",
   "metadata": {},
   "outputs": [
    {
     "name": "stdout",
     "output_type": "stream",
     "text": [
      "              precision    recall  f1-score   support\n",
      "\n",
      "           1       0.40      0.52      0.45      4838\n",
      "           2       0.90      1.00      0.95      5979\n",
      "           3       0.53      0.23      0.32      5391\n",
      "           4       0.65      0.73      0.69      7786\n",
      "\n",
      "    accuracy                           0.64     23994\n",
      "   macro avg       0.62      0.62      0.60     23994\n",
      "weighted avg       0.63      0.64      0.62     23994\n",
      "\n"
     ]
    }
   ],
   "source": [
    "X_train, X_test, y_train, y_test = train_test_split(X, y, test_size = .30, random_state = 123)\n",
    "algo = GradientBoostingClassifier()\n",
    "model = algo.fit(X_train,y_train)\n",
    "preds = model.predict(X_test)\n",
    "print(classification_report(y_test, preds))"
   ]
  },
  {
   "cell_type": "code",
   "execution_count": 18,
   "id": "e0eba471",
   "metadata": {},
   "outputs": [
    {
     "name": "stdout",
     "output_type": "stream",
     "text": [
      "[0.6447862  0.64222306 0.64003501 0.64553638 0.64432635]\n"
     ]
    }
   ],
   "source": [
    "model = GradientBoostingClassifier()\n",
    "print(cross_val_score(model, X, y, cv=5)) "
   ]
  },
  {
   "cell_type": "code",
   "execution_count": 19,
   "id": "1f2ae945",
   "metadata": {},
   "outputs": [
    {
     "name": "stdout",
     "output_type": "stream",
     "text": [
      "              precision    recall  f1-score   support\n",
      "\n",
      "           1       0.41      0.54      0.46      4791\n",
      "           2       0.90      1.00      0.95      6036\n",
      "           3       0.53      0.22      0.31      5334\n",
      "           4       0.66      0.73      0.69      7833\n",
      "\n",
      "    accuracy                           0.65     23994\n",
      "   macro avg       0.62      0.62      0.60     23994\n",
      "weighted avg       0.64      0.65      0.62     23994\n",
      "\n"
     ]
    }
   ],
   "source": [
    "X_train, X_test, y_train, y_test = train_test_split(X, y, test_size = .30, random_state = 500)\n",
    "algo = DecisionTreeClassifier(max_depth=4, class_weight='balanced')\n",
    "model = algo.fit(X_train,y_train)\n",
    "preds = model.predict(X_test)\n",
    "print(classification_report(y_test, preds))"
   ]
  },
  {
   "cell_type": "code",
   "execution_count": 20,
   "id": "879c0477",
   "metadata": {},
   "outputs": [
    {
     "name": "stdout",
     "output_type": "stream",
     "text": [
      "[0.64384846 0.64209802 0.63915979 0.64541135 0.64582682]\n"
     ]
    }
   ],
   "source": [
    "model = DecisionTreeClassifier(max_depth=4, class_weight='balanced')\n",
    "print(cross_val_score(model, X, y, cv=5)) "
   ]
  },
  {
   "cell_type": "markdown",
   "id": "6aa1c403",
   "metadata": {},
   "source": [
    "Even though the gradient boosting classifier was the best initially, I was able to get the Decision Tree Classifier to match it by tuning the parameters. Still, the accuracy was only 64%. Better than a coin flip but not great.\n",
    "\n",
    "### Predicting In-Store or Online Purchases\n",
    "\n",
    "This is the one that is most likely to work. It is a binary category so it has the fewest amount of possible choices. Blackwell asked if the algorithm could predict where the purchase was made based on age."
   ]
  },
  {
   "cell_type": "code",
   "execution_count": 21,
   "id": "21e75dbf",
   "metadata": {},
   "outputs": [
    {
     "name": "stdout",
     "output_type": "stream",
     "text": [
      "Random Forest Classifier 0.8587504316343161\n",
      "Decision Tree Classifier 0.8459845596456693\n",
      "Gradient Boosting Classifier 0.8873454123499366\n"
     ]
    }
   ],
   "source": [
    "X = data.iloc[:,~data.columns.isin(['in-store'])]\n",
    "y = data['in-store']\n",
    "\n",
    "algos_class = []\n",
    "algos_class.append(('Random Forest Classifier', RandomForestClassifier()))\n",
    "algos_class.append(('Decision Tree Classifier', DecisionTreeClassifier()))\n",
    "algos_class.append(('Gradient Boosting Classifier', GradientBoostingClassifier()))\n",
    "\n",
    "results = []\n",
    "names = []\n",
    "for name, model in algos_class:\n",
    "    result = cross_val_score(model, X, y, cv=3, scoring='accuracy')\n",
    "    names.append(name)\n",
    "    results.append(result)\n",
    "\n",
    "for i in range(len(names)):\n",
    "    print(names[i],results[i].mean())"
   ]
  },
  {
   "cell_type": "code",
   "execution_count": 22,
   "id": "93aeec8b",
   "metadata": {},
   "outputs": [
    {
     "name": "stdout",
     "output_type": "stream",
     "text": [
      "              precision    recall  f1-score   support\n",
      "\n",
      "           0       0.99      0.78      0.87     12055\n",
      "           1       0.82      0.99      0.90     11939\n",
      "\n",
      "    accuracy                           0.89     23994\n",
      "   macro avg       0.90      0.89      0.88     23994\n",
      "weighted avg       0.90      0.89      0.88     23994\n",
      "\n"
     ]
    }
   ],
   "source": [
    "X_train, X_test, y_train, y_test = train_test_split(X, y, test_size = .30, random_state = 500)\n",
    "algo = GradientBoostingClassifier(max_depth=3, n_estimators=200)\n",
    "model = algo.fit(X_train,y_train)\n",
    "preds = model.predict(X_test)\n",
    "print(classification_report(y_test, preds))"
   ]
  },
  {
   "cell_type": "code",
   "execution_count": 23,
   "id": "0ec3259e",
   "metadata": {},
   "outputs": [
    {
     "name": "stdout",
     "output_type": "stream",
     "text": [
      "[0.88884721 0.88484621 0.88928482 0.8867842  0.88565177]\n"
     ]
    }
   ],
   "source": [
    "model = GradientBoostingClassifier(max_depth=3, n_estimators=200)\n",
    "print(cross_val_score(model, X, y, cv=5)) "
   ]
  },
  {
   "cell_type": "code",
   "execution_count": 24,
   "id": "0a175136",
   "metadata": {},
   "outputs": [
    {
     "name": "stdout",
     "output_type": "stream",
     "text": [
      "              precision    recall  f1-score   support\n",
      "\n",
      "           0       1.00      0.67      0.80     12055\n",
      "           1       0.75      1.00      0.86     11939\n",
      "\n",
      "    accuracy                           0.83     23994\n",
      "   macro avg       0.87      0.83      0.83     23994\n",
      "weighted avg       0.88      0.83      0.83     23994\n",
      "\n"
     ]
    }
   ],
   "source": [
    "X_train, X_test, y_train, y_test = train_test_split(X, y, test_size = .30, random_state = 500)\n",
    "algo = DecisionTreeClassifier(max_depth=3, class_weight='balanced')\n",
    "model = algo.fit(X_train,y_train)\n",
    "preds = model.predict(X_test)\n",
    "print(classification_report(y_test, preds))"
   ]
  },
  {
   "cell_type": "code",
   "execution_count": 25,
   "id": "b0cb6b96",
   "metadata": {},
   "outputs": [
    {
     "data": {
      "image/png": "[encoded data removed]",
      "text/plain": [
       "<Figure size 720x720 with 1 Axes>"
      ]
     },
     "metadata": {
      "needs_background": "light"
     },
     "output_type": "display_data"
    }
   ],
   "source": [
    "fig = plt.figure(figsize=(10,10))\n",
    "tree = plot_tree(model, feature_names=X.columns,class_names=['In-Store', 'Online'], filled=True, fontsize=12)"
   ]
  },
  {
   "cell_type": "markdown",
   "id": "f954d299",
   "metadata": {},
   "source": [
    "I was able to predict the type of purchase with over 88% accuracy! This will be very helpful to Blackwell in the future. Though the Blackwell staff hypothesized that the customer's age would have the most influence on the in-store or online purchases, the most important variable was the region. This calls back to the graph earlier, where there were no online purchases made in the South or in-store purchases in the North."
   ]
  },
  {
   "cell_type": "markdown",
   "id": "db6b3b61",
   "metadata": {},
   "source": [
    "## Conclusion\n",
    "\n",
    "The West region did the best in sales revenue while the South did not do so well. Notably, there were no online purchases in the South or in-store purchases in the North. I would recommend exploring why this is and allowing customers to make both types of purchases in all regions. There was also a constant amount spent no matter the number of items the customer purchased. One course of action is to provide sales to draw customers in and encourage them to spend more money.\n",
    "\n",
    "The algorithms had varying results predicting the customer demographics. It was not able to accurately predict a customer's age or how much they spent. It was able to predict the region the transaction took place in with 64% accuracy and whether it was in-store or online accurately at 88%. "
   ]
  }
 ],
 "metadata": {
  "kernelspec": {
   "display_name": "Python 3 (ipykernel)",
   "language": "python",
   "name": "python3"
  },
  "language_info": {
   "codemirror_mode": {
    "name": "ipython",
    "version": 3
   },
   "file_extension": ".py",
   "mimetype": "text/x-python",
   "name": "python",
   "nbconvert_exporter": "python",
   "pygments_lexer": "ipython3",
   "version": "3.9.12"
  }
 },
 "nbformat": 4,
 "nbformat_minor": 5
}
